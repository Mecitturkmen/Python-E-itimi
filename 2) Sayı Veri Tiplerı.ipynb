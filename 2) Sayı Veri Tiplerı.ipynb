{
 "cells": [
  {
   "cell_type": "markdown",
   "id": "ed4729a1-31ea-4a4d-b687-674d016deef2",
   "metadata": {},
   "source": [
    "## SAYI VERİ TİPLERİ"
   ]
  },
  {
   "cell_type": "code",
   "execution_count": 4,
   "id": "4c1770c1-5094-49d7-b381-d922ad6ca445",
   "metadata": {},
   "outputs": [
    {
     "name": "stdout",
     "output_type": "stream",
     "text": [
      "4\n"
     ]
    }
   ],
   "source": [
    "print (2+2)"
   ]
  },
  {
   "cell_type": "code",
   "execution_count": 6,
   "id": "f7fee95e-c9ee-49f5-84e3-793ebd240433",
   "metadata": {},
   "outputs": [
    {
     "name": "stdout",
     "output_type": "stream",
     "text": [
      "7.2\n"
     ]
    }
   ],
   "source": [
    "print (2+5.2)"
   ]
  },
  {
   "cell_type": "code",
   "execution_count": 8,
   "id": "bad3ef0c-b6b2-4822-8ba1-3da4b7ac8ad9",
   "metadata": {},
   "outputs": [
    {
     "name": "stdout",
     "output_type": "stream",
     "text": [
      "<class 'int'>\n"
     ]
    }
   ],
   "source": [
    "print (type (2)) #Veri tipinin hangi tipte olduğunu öğrenmek için type komutu kullanılır."
   ]
  },
  {
   "cell_type": "code",
   "execution_count": 10,
   "id": "4b17c04e-b4d9-467f-a693-142de3a067f1",
   "metadata": {},
   "outputs": [
    {
     "name": "stdout",
     "output_type": "stream",
     "text": [
      "<class 'float'>\n"
     ]
    }
   ],
   "source": [
    "print (type(5.2))"
   ]
  },
  {
   "cell_type": "code",
   "execution_count": 12,
   "id": "ad694b89-d047-4835-aa60-eced5efc4544",
   "metadata": {},
   "outputs": [
    {
     "name": "stdout",
     "output_type": "stream",
     "text": [
      "8\n"
     ]
    }
   ],
   "source": [
    "print (2**3) #Sayının üssünü alır."
   ]
  },
  {
   "cell_type": "code",
   "execution_count": 14,
   "id": "7b992750-3d84-44b8-b1d7-6c2191fb3b34",
   "metadata": {},
   "outputs": [
    {
     "name": "stdout",
     "output_type": "stream",
     "text": [
      "0\n"
     ]
    }
   ],
   "source": [
    "print (10%2) #Modunu alır ve kalanı verir."
   ]
  },
  {
   "cell_type": "code",
   "execution_count": 16,
   "id": "7a9d097d-14d0-4749-ae31-492fafbaa5ed",
   "metadata": {},
   "outputs": [
    {
     "name": "stdout",
     "output_type": "stream",
     "text": [
      "3.3333333333333335\n"
     ]
    }
   ],
   "source": [
    "print (10/3)"
   ]
  },
  {
   "cell_type": "code",
   "execution_count": 18,
   "id": "0b812085-6342-4c62-9d05-6d0bc63aff44",
   "metadata": {},
   "outputs": [
    {
     "name": "stdout",
     "output_type": "stream",
     "text": [
      "3\n"
     ]
    }
   ],
   "source": [
    "print (10//3) #Tam kısmını verir virgülden sonrasını almaz."
   ]
  },
  {
   "cell_type": "code",
   "execution_count": null,
   "id": "2f6f1ba3-ad4a-4c28-b69b-a56cce64f00a",
   "metadata": {},
   "outputs": [],
   "source": []
  }
 ],
 "metadata": {
  "kernelspec": {
   "display_name": "Python 3 (ipykernel)",
   "language": "python",
   "name": "python3"
  },
  "language_info": {
   "codemirror_mode": {
    "name": "ipython",
    "version": 3
   },
   "file_extension": ".py",
   "mimetype": "text/x-python",
   "name": "python",
   "nbconvert_exporter": "python",
   "pygments_lexer": "ipython3",
   "version": "3.10.14"
  }
 },
 "nbformat": 4,
 "nbformat_minor": 5
}
