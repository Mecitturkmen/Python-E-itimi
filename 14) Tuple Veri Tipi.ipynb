{
 "cells": [
  {
   "cell_type": "markdown",
   "id": "2fbdccbf-805e-4abe-8429-6f0999865d25",
   "metadata": {},
   "source": [
    "## Tuple Veri Tipi"
   ]
  },
  {
   "cell_type": "code",
   "execution_count": 2,
   "id": "29b8717a-5b95-4461-9b42-9faad842ef27",
   "metadata": {},
   "outputs": [
    {
     "name": "stdout",
     "output_type": "stream",
     "text": [
      "<class 'list'>\n",
      "<class 'tuple'>\n"
     ]
    }
   ],
   "source": [
    "list =[1,2,3]\n",
    "\n",
    "tuple = (1,\"iki\", 3)\n",
    "\n",
    "print(type(list))\n",
    "print(type(tuple))"
   ]
  },
  {
   "cell_type": "code",
   "execution_count": 4,
   "id": "4bab6318-774d-4b05-9135-23d71d4f06d2",
   "metadata": {},
   "outputs": [
    {
     "name": "stdout",
     "output_type": "stream",
     "text": [
      "3\n",
      "3\n"
     ]
    }
   ],
   "source": [
    "print (list[2])\n",
    "print (tuple[2])"
   ]
  },
  {
   "cell_type": "code",
   "execution_count": 8,
   "id": "fe19f8eb-251f-40d6-8183-628d0c74ce3f",
   "metadata": {},
   "outputs": [
    {
     "name": "stdout",
     "output_type": "stream",
     "text": [
      "3\n",
      "3\n"
     ]
    }
   ],
   "source": [
    "print (len(list))\n",
    "print (len(tuple)) #Aynı şekilde len fonksiyonu ile uzunluğunu bulabiliriz."
   ]
  },
  {
   "cell_type": "code",
   "execution_count": 12,
   "id": "05c3e145-335c-4175-9dfe-b080c0f4169b",
   "metadata": {},
   "outputs": [
    {
     "ename": "TypeError",
     "evalue": "'tuple' object does not support item assignment",
     "output_type": "error",
     "traceback": [
      "\u001b[1;31m---------------------------------------------------------------------------\u001b[0m",
      "\u001b[1;31mTypeError\u001b[0m                                 Traceback (most recent call last)",
      "Cell \u001b[1;32mIn[12], line 2\u001b[0m\n\u001b[0;32m      1\u001b[0m \u001b[38;5;66;03m# Tuple değiştirilemeyen özelliktedir.\u001b[39;00m\n\u001b[1;32m----> 2\u001b[0m \u001b[38;5;28mtuple\u001b[39m[\u001b[38;5;241m0\u001b[39m] \u001b[38;5;241m=\u001b[39m \u001b[38;5;124m\"\u001b[39m\u001b[38;5;124mDeniz\u001b[39m\u001b[38;5;124m\"\u001b[39m\n",
      "\u001b[1;31mTypeError\u001b[0m: 'tuple' object does not support item assignment"
     ]
    }
   ],
   "source": [
    "# Tuple değiştirilemeyen özelliktedir.\n",
    "tuple[0] = \"Deniz\""
   ]
  },
  {
   "cell_type": "code",
   "execution_count": 16,
   "id": "50ae2e43-5bad-4294-b29e-6eb4327ae8d1",
   "metadata": {},
   "outputs": [
    {
     "data": {
      "text/plain": [
       "1"
      ]
     },
     "execution_count": 16,
     "metadata": {},
     "output_type": "execute_result"
    }
   ],
   "source": [
    "tuple.count(1) #Liste de olduğu gibi count ile kaç tane olduğunu bulabiliriz."
   ]
  },
  {
   "cell_type": "code",
   "execution_count": 18,
   "id": "83f63c37-9258-4d6c-9ac4-c669079fbd28",
   "metadata": {},
   "outputs": [
    {
     "data": {
      "text/plain": [
       "1"
      ]
     },
     "execution_count": 18,
     "metadata": {},
     "output_type": "execute_result"
    }
   ],
   "source": [
    "tuple.index(\"iki\") # index metodu ise iki strsinin kaçıncı index de olduğunu belirtir."
   ]
  },
  {
   "cell_type": "code",
   "execution_count": 22,
   "id": "e38ef915-5248-4229-b272-e7f9beca0d73",
   "metadata": {},
   "outputs": [
    {
     "name": "stdout",
     "output_type": "stream",
     "text": [
      "(1, 'iki', 3, 2, 'dört', 5)\n"
     ]
    }
   ],
   "source": [
    "tuple1 = (1,\"iki\", 3)\n",
    "tuple2 = (2,\"dört\", 5)\n",
    "\n",
    "print (tuple1 + tuple2) #iki tuple birleştirmek için"
   ]
  },
  {
   "cell_type": "code",
   "execution_count": null,
   "id": "29674409-c137-45df-9511-25aaff7ac0ba",
   "metadata": {},
   "outputs": [],
   "source": []
  }
 ],
 "metadata": {
  "kernelspec": {
   "display_name": "Python 3 (ipykernel)",
   "language": "python",
   "name": "python3"
  },
  "language_info": {
   "codemirror_mode": {
    "name": "ipython",
    "version": 3
   },
   "file_extension": ".py",
   "mimetype": "text/x-python",
   "name": "python",
   "nbconvert_exporter": "python",
   "pygments_lexer": "ipython3",
   "version": "3.10.14"
  }
 },
 "nbformat": 4,
 "nbformat_minor": 5
}
