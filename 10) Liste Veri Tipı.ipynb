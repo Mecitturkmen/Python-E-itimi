{
 "cells": [
  {
   "cell_type": "markdown",
   "id": "8a402720-896f-4864-b9a5-61ca53cdf291",
   "metadata": {},
   "source": [
    "## Liste Veri Tipi"
   ]
  },
  {
   "cell_type": "code",
   "execution_count": 2,
   "id": "49210ec4-9880-4f5f-896b-65369f521c20",
   "metadata": {},
   "outputs": [
    {
     "name": "stdout",
     "output_type": "stream",
     "text": [
      "['Hello', 'There.', 'My', 'name', 'is', 'Mecit', 'Türkmen']\n",
      "Hello\n"
     ]
    }
   ],
   "source": [
    "message= 'Hello There. My name is Mecit Türkmen'.split()\n",
    "print (message)\n",
    "print (message[0]) #Liste tipinde index bulunmak için kullanılır."
   ]
  },
  {
   "cell_type": "code",
   "execution_count": 4,
   "id": "5edcf0eb-ddd7-436f-adac-fd2d74c01277",
   "metadata": {},
   "outputs": [
    {
     "name": "stdout",
     "output_type": "stream",
     "text": [
      "[1, 2, 3]\n"
     ]
    }
   ],
   "source": [
    "my_list = [1,2,3]\n",
    "print(my_list)"
   ]
  },
  {
   "cell_type": "code",
   "execution_count": 6,
   "id": "7e12a3b1-a192-484e-b280-b3dda42f310f",
   "metadata": {},
   "outputs": [
    {
     "name": "stdout",
     "output_type": "stream",
     "text": [
      "['bir', 2, True, 5.6]\n"
     ]
    }
   ],
   "source": [
    "my_list1 = ['bir',2,True,5.6]\n",
    "print (my_list1)"
   ]
  },
  {
   "cell_type": "code",
   "execution_count": 8,
   "id": "9e186b28-7581-4c51-a52a-81a9a6285372",
   "metadata": {},
   "outputs": [],
   "source": [
    "#Listelerde Toplama işlemi"
   ]
  },
  {
   "cell_type": "code",
   "execution_count": 10,
   "id": "677f8fc2-eb5f-4d7d-8563-01e00f8216d2",
   "metadata": {},
   "outputs": [
    {
     "name": "stdout",
     "output_type": "stream",
     "text": [
      "['one', 'two', 'three', 'four', 'five', 'six']\n"
     ]
    }
   ],
   "source": [
    "list1 = ['one', 'two', 'three']\n",
    "list2 = ['four', 'five', 'six']\n",
    "numbers = list1 + list2\n",
    "print (numbers)"
   ]
  },
  {
   "cell_type": "code",
   "execution_count": 12,
   "id": "614c2afe-93c1-4405-81ac-792cf06dc416",
   "metadata": {},
   "outputs": [
    {
     "name": "stdout",
     "output_type": "stream",
     "text": [
      "6\n"
     ]
    }
   ],
   "source": [
    "print (len(numbers)) #Karakterin uzunluğunu bulmak için kullanılır."
   ]
  },
  {
   "cell_type": "code",
   "execution_count": 14,
   "id": "6e07262b-c387-4003-9a9f-f7ac10251216",
   "metadata": {},
   "outputs": [
    {
     "name": "stdout",
     "output_type": "stream",
     "text": [
      "['mecit', 35, 'kübra', 26]\n"
     ]
    }
   ],
   "source": [
    "userA = ['mecit' , 35]\n",
    "userB = ['kübra' , 26]\n",
    "users = userA + userB\n",
    "print (users)"
   ]
  },
  {
   "cell_type": "code",
   "execution_count": 16,
   "id": "bbc8cef0-1245-4635-b4a5-33a04cf38774",
   "metadata": {},
   "outputs": [],
   "source": [
    "#Liste içinde Liste oluşturmak için ise;"
   ]
  },
  {
   "cell_type": "code",
   "execution_count": 18,
   "id": "a299d113-b804-47a9-ba32-598c949ae340",
   "metadata": {},
   "outputs": [
    {
     "name": "stdout",
     "output_type": "stream",
     "text": [
      "[['mecit', 35], ['kübra', 26]]\n",
      "['kübra', 26]\n",
      "kübra\n",
      "35\n"
     ]
    }
   ],
   "source": [
    "users1 =  [userA, userB]\n",
    "print (users1)\n",
    "print (users1 [1])\n",
    "\n",
    "a = users1 [1]\n",
    "print (a[0])\n",
    "print (users1 [0][1])"
   ]
  },
  {
   "cell_type": "code",
   "execution_count": null,
   "id": "5cd5612a-a67e-41c2-878d-1f8ab5b36bc3",
   "metadata": {},
   "outputs": [],
   "source": []
  }
 ],
 "metadata": {
  "kernelspec": {
   "display_name": "Python 3 (ipykernel)",
   "language": "python",
   "name": "python3"
  },
  "language_info": {
   "codemirror_mode": {
    "name": "ipython",
    "version": 3
   },
   "file_extension": ".py",
   "mimetype": "text/x-python",
   "name": "python",
   "nbconvert_exporter": "python",
   "pygments_lexer": "ipython3",
   "version": "3.10.14"
  }
 },
 "nbformat": 4,
 "nbformat_minor": 5
}
