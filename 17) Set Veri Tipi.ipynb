{
 "cells": [
  {
   "cell_type": "markdown",
   "id": "18b507de-03fb-4e70-bc8b-b54b1ef903ea",
   "metadata": {},
   "source": [
    "## Set Veri Tipi"
   ]
  },
  {
   "cell_type": "code",
   "execution_count": 3,
   "id": "bb19c306-e2f7-45f1-910b-20051a762713",
   "metadata": {},
   "outputs": [],
   "source": [
    "fruits = { 'orange', 'apple', 'banana'}\n",
    "\n",
    "# print(fruits[0]) indekslenemez"
   ]
  },
  {
   "cell_type": "code",
   "execution_count": 5,
   "id": "7cccc42b-f758-436f-8053-b5c0f1098e83",
   "metadata": {},
   "outputs": [
    {
     "name": "stdout",
     "output_type": "stream",
     "text": [
      "apple\n",
      "orange\n",
      "banana\n"
     ]
    }
   ],
   "source": [
    "for x in fruits:\n",
    "    print(x)"
   ]
  },
  {
   "cell_type": "code",
   "execution_count": 9,
   "id": "3871a08c-cd59-44bc-b496-e25acfc4e9ad",
   "metadata": {},
   "outputs": [
    {
     "data": {
      "text/plain": [
       "{'apple', 'banana', 'cherry', 'orange'}"
      ]
     },
     "execution_count": 9,
     "metadata": {},
     "output_type": "execute_result"
    }
   ],
   "source": [
    "fruits.add('cherry') #cherry strinigin küme veri tipine ekler.\n",
    "fruits"
   ]
  },
  {
   "cell_type": "code",
   "execution_count": 25,
   "id": "e0d3e897-9f9c-4379-b08f-e6f017bbdf7b",
   "metadata": {},
   "outputs": [
    {
     "data": {
      "text/plain": [
       "{'apple', 'banana', 'cherry', 'grape', 'mango', 'orange'}"
      ]
     },
     "execution_count": 25,
     "metadata": {},
     "output_type": "execute_result"
    }
   ],
   "source": [
    "fruits.update(['mango','grape','apple']) #birden fazla eleman eklemek için kullanılır.\n",
    "#Tekrarlanamaz olduğu için tekrarlayan elemanlar çıkartılır.\n",
    "fruits"
   ]
  },
  {
   "cell_type": "code",
   "execution_count": 27,
   "id": "d6d8cf7f-deab-40a1-aaee-0fd0eaecce9a",
   "metadata": {},
   "outputs": [
    {
     "data": {
      "text/plain": [
       "{'apple', 'banana', 'cherry', 'grape', 'orange'}"
      ]
     },
     "execution_count": 27,
     "metadata": {},
     "output_type": "execute_result"
    }
   ],
   "source": [
    "fruits.remove('mango') #mango str sini siler.\n",
    "fruits"
   ]
  },
  {
   "cell_type": "code",
   "execution_count": 31,
   "id": "91a1e6a3-6a93-41e6-869a-fbadfd06b849",
   "metadata": {},
   "outputs": [
    {
     "data": {
      "text/plain": [
       "{'banana', 'cherry', 'grape', 'orange'}"
      ]
     },
     "execution_count": 31,
     "metadata": {},
     "output_type": "execute_result"
    }
   ],
   "source": [
    "fruits.discard('apple') #apple strsini siler.\n",
    "fruits"
   ]
  },
  {
   "cell_type": "code",
   "execution_count": 35,
   "id": "81a0c396-33d0-4e5d-ba4f-2e0d46965fa0",
   "metadata": {},
   "outputs": [
    {
     "data": {
      "text/plain": [
       "{'banana', 'cherry'}"
      ]
     },
     "execution_count": 35,
     "metadata": {},
     "output_type": "execute_result"
    }
   ],
   "source": [
    "fruits.pop() #Herhangi bir elmanı siler.\n",
    "fruits"
   ]
  },
  {
   "cell_type": "code",
   "execution_count": 39,
   "id": "4b83ad12-e76b-451b-a923-95cd8ca47b64",
   "metadata": {},
   "outputs": [
    {
     "data": {
      "text/plain": [
       "set()"
      ]
     },
     "execution_count": 39,
     "metadata": {},
     "output_type": "execute_result"
    }
   ],
   "source": [
    "fruits.clear() #Bütün elemanları siler.\n",
    "fruits"
   ]
  },
  {
   "cell_type": "code",
   "execution_count": null,
   "id": "3dd34b26-33cd-4f72-9d4a-e51ece24f527",
   "metadata": {},
   "outputs": [],
   "source": []
  }
 ],
 "metadata": {
  "kernelspec": {
   "display_name": "Python 3 (ipykernel)",
   "language": "python",
   "name": "python3"
  },
  "language_info": {
   "codemirror_mode": {
    "name": "ipython",
    "version": 3
   },
   "file_extension": ".py",
   "mimetype": "text/x-python",
   "name": "python",
   "nbconvert_exporter": "python",
   "pygments_lexer": "ipython3",
   "version": "3.10.14"
  }
 },
 "nbformat": 4,
 "nbformat_minor": 5
}
