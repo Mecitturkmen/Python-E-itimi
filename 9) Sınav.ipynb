{
 "cells": [
  {
   "cell_type": "markdown",
   "id": "dd9df172-8c4c-44b6-bb4d-8f792d0a8f46",
   "metadata": {},
   "source": [
    "## QUİZ"
   ]
  },
  {
   "cell_type": "code",
   "execution_count": 2,
   "id": "94a7564b-edab-487d-bf7e-d0e2083c305b",
   "metadata": {},
   "outputs": [],
   "source": [
    "website = \"http://www.sadikturan.com\"\n",
    "course  = \"Python Kursu: Baştan Sona Python Programlama Rehberiniz (40 saat)\""
   ]
  },
  {
   "cell_type": "code",
   "execution_count": 4,
   "id": "d4d7d2a2-4fa1-4cf1-a9aa-ffb36d5c28d3",
   "metadata": {},
   "outputs": [
    {
     "name": "stdout",
     "output_type": "stream",
     "text": [
      "Hello world\n"
     ]
    }
   ],
   "source": [
    "# 1-    ' Hello world ' karakter dizisinin baş ve sondaki boşluk karakterini silin.\n",
    "\n",
    "x = ' Hello world '\n",
    "x = x.strip()\n",
    "print (x)"
   ]
  },
  {
   "cell_type": "code",
   "execution_count": 6,
   "id": "022d5a2a-311d-4f88-ab59-69628efada8d",
   "metadata": {},
   "outputs": [
    {
     "name": "stdout",
     "output_type": "stream",
     "text": [
      "sadikturan\n"
     ]
    }
   ],
   "source": [
    "# 2-    'www.sadikturan.com' içindeki sadikturan bilgisi harcindeki her karakteri silin.\n",
    "\n",
    "y = 'www.sadikturan.com'\n",
    "y = y.replace('www.','').replace('.com','')\n",
    "print (y)"
   ]
  },
  {
   "cell_type": "code",
   "execution_count": 8,
   "id": "821c0c39-770c-4e93-b2f7-435c441469ce",
   "metadata": {},
   "outputs": [
    {
     "name": "stdout",
     "output_type": "stream",
     "text": [
      "python kursu: baştan sona python programlama rehberiniz (40 saat)\n"
     ]
    }
   ],
   "source": [
    "# 3-    'course' karakter dizisinin tüm karakterlerini küçük harf yapın.\n",
    "\n",
    "course = course.lower ()\n",
    "print (course)"
   ]
  },
  {
   "cell_type": "code",
   "execution_count": 10,
   "id": "54c204ce-0bd7-4996-a193-c4c89fdc5120",
   "metadata": {},
   "outputs": [
    {
     "name": "stdout",
     "output_type": "stream",
     "text": [
      "2\n"
     ]
    }
   ],
   "source": [
    "# 4-    'website' içinde kaç tane a karakteri vardır? (count('a))\n",
    "\n",
    "website = website.count ('a')\n",
    "print (website)\n"
   ]
  },
  {
   "cell_type": "code",
   "execution_count": 14,
   "id": "05bcf3c7-76f9-4668-b392-7a31ccc21986",
   "metadata": {},
   "outputs": [
    {
     "name": "stdout",
     "output_type": "stream",
     "text": [
      "False\n",
      "True\n"
     ]
    }
   ],
   "source": [
    "# 5-    'website' 'www' ile başlayıp 'com' ile bitiyor mu?\n",
    "\n",
    "website = \"http://www.sadikturan.com\"\n",
    "sorgu1 = website.startswith ('www')\n",
    "print (sorgu1)\n",
    "\n",
    "sorgu2 = website.endswith ('com')\n",
    "print (sorgu2)"
   ]
  },
  {
   "cell_type": "code",
   "execution_count": 18,
   "id": "b89f2606-fc05-4a0e-b9ac-12c3663f364c",
   "metadata": {},
   "outputs": [
    {
     "name": "stdout",
     "output_type": "stream",
     "text": [
      "21\n",
      "21\n"
     ]
    }
   ],
   "source": [
    "# 6-    'website' içinde '.com' ifadesi var mı?\n",
    "\n",
    "website = \"http://www.sadikturan.com\"\n",
    "result = website.find ('.com')\n",
    "print (result)\n",
    "\n",
    "result = website.rfind ('.com') #sondan başlayarak arar.\n",
    "print (result)"
   ]
  },
  {
   "cell_type": "code",
   "execution_count": 20,
   "id": "39129f4c-783b-4149-923d-95882d80e512",
   "metadata": {},
   "outputs": [
    {
     "name": "stdout",
     "output_type": "stream",
     "text": [
      "False\n",
      "False\n"
     ]
    }
   ],
   "source": [
    "# 7-    'course' içindeki karakterlerin hepsi alfabetik mi? (isaplha, isdigit)\n",
    "\n",
    "result1 = course.isalpha()\n",
    "print (result1)\n",
    "\n",
    "result2 = course.isdigit ()\n",
    "print (result2)"
   ]
  },
  {
   "cell_type": "code",
   "execution_count": 22,
   "id": "dffa6829-d3bb-4432-8ddd-322511e457da",
   "metadata": {},
   "outputs": [
    {
     "name": "stdout",
     "output_type": "stream",
     "text": [
      "*********************Contents*********************\n",
      "******************************************Contents\n",
      "Contents******************************************\n"
     ]
    }
   ],
   "source": [
    "# 8-    'Contents' ifadesini satırda 50 karakter yapıp sağ ve soluna '*' koyunz.\n",
    "\n",
    "result3 = 'Contents'.center(50,'*')\n",
    "print (result3)\n",
    "\n",
    "result4 = 'Contents'.rjust(50,'*') #sağına yıldız ekler\n",
    "print (result4)\n",
    "\n",
    "result5 = 'Contents'.ljust(50,'*') #soluna yıldız ekler.\n",
    "print (result5)"
   ]
  },
  {
   "cell_type": "code",
   "execution_count": 24,
   "id": "52f8c6aa-1bb1-46f2-b021-0b7c34eac6f1",
   "metadata": {},
   "outputs": [
    {
     "name": "stdout",
     "output_type": "stream",
     "text": [
      "Python-Kursu:-Baştan-Sona-Python-Programlama-Rehberiniz-(40-saat)\n"
     ]
    }
   ],
   "source": [
    "# 9-    'course' içindeki tüm boşluk karakterlerini '-' ile değiştirin.\n",
    "\n",
    "course  = \"Python Kursu: Baştan Sona Python Programlama Rehberiniz (40 saat)\"\n",
    "\n",
    "result6 = course.replace (' ','-')\n",
    "print (result6)"
   ]
  },
  {
   "cell_type": "code",
   "execution_count": 26,
   "id": "4cfd60ec-1a96-45e3-a248-18ad3ca37aaa",
   "metadata": {},
   "outputs": [
    {
     "name": "stdout",
     "output_type": "stream",
     "text": [
      "Hello there\n"
     ]
    }
   ],
   "source": [
    "# 10-   'Hello Wolrd' ifadesindeki 'world' yerine 'there' yazınız.\n",
    "\n",
    "result7 = 'Hello World'.replace('World','there')\n",
    "print (result7)"
   ]
  },
  {
   "cell_type": "code",
   "execution_count": 28,
   "id": "be188498-26dc-4568-a1f3-ba878f1000ef",
   "metadata": {},
   "outputs": [
    {
     "name": "stdout",
     "output_type": "stream",
     "text": [
      "['Python', 'Kursu:', 'Baştan', 'Sona', 'Python', 'Programlama', 'Rehberiniz', '(40', 'saat)']\n"
     ]
    }
   ],
   "source": [
    "# 11-   'course' ifadesini boşluk karakterlerinden sonra ayırın.\n",
    "\n",
    "course  = \"Python Kursu: Baştan Sona Python Programlama Rehberiniz (40 saat)\"\n",
    "result8 = course.split (' ')\n",
    "print(result8)"
   ]
  },
  {
   "cell_type": "code",
   "execution_count": null,
   "id": "a879134d-0b60-4d2b-8c0c-0ab4eda16bcd",
   "metadata": {},
   "outputs": [],
   "source": []
  }
 ],
 "metadata": {
  "kernelspec": {
   "display_name": "Python 3 (ipykernel)",
   "language": "python",
   "name": "python3"
  },
  "language_info": {
   "codemirror_mode": {
    "name": "ipython",
    "version": 3
   },
   "file_extension": ".py",
   "mimetype": "text/x-python",
   "name": "python",
   "nbconvert_exporter": "python",
   "pygments_lexer": "ipython3",
   "version": "3.10.14"
  }
 },
 "nbformat": 4,
 "nbformat_minor": 5
}
