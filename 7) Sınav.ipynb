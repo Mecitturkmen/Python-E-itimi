{
 "cells": [
  {
   "cell_type": "markdown",
   "id": "59f73509-aaf5-4da4-b94f-6e3abd65ed4d",
   "metadata": {},
   "source": [
    "## QUİZ"
   ]
  },
  {
   "cell_type": "code",
   "execution_count": 2,
   "id": "63b250a8-b774-4d3e-a737-2f27234ba361",
   "metadata": {},
   "outputs": [],
   "source": [
    "website =\"http://www.sadikturan.com\"\n",
    "course = \"Python Kursu : Baştan Sona Python Programlama Rehberiniz (40 saat)\""
   ]
  },
  {
   "cell_type": "code",
   "execution_count": 8,
   "id": "bb0006f1-64f2-4208-b8e0-760f85de7d14",
   "metadata": {},
   "outputs": [
    {
     "name": "stdout",
     "output_type": "stream",
     "text": [
      "66\n"
     ]
    }
   ],
   "source": [
    "# 1- 'course' karakter dizisinde kaç karakter bulunmaktadır?\n",
    "\n",
    "print (len(course))"
   ]
  },
  {
   "cell_type": "code",
   "execution_count": 6,
   "id": "276de457-6020-4053-b238-648d2837a34f",
   "metadata": {},
   "outputs": [
    {
     "name": "stdout",
     "output_type": "stream",
     "text": [
      "www\n"
     ]
    }
   ],
   "source": [
    "# 2- 'website' içinden www karakterlerini alın.\n",
    "\n",
    "print (website [7:10])"
   ]
  },
  {
   "cell_type": "code",
   "execution_count": 10,
   "id": "cc13da3e-f29c-45b0-a0eb-0eda50c48d26",
   "metadata": {},
   "outputs": [
    {
     "name": "stdout",
     "output_type": "stream",
     "text": [
      "com\n"
     ]
    }
   ],
   "source": [
    "# 3- 'website' içinden com karakterilerini alın.\n",
    "\n",
    "print (website [22:])  #veya print (website [length-3:lenght])"
   ]
  },
  {
   "cell_type": "code",
   "execution_count": 12,
   "id": "783d83a6-6578-47f3-9691-24547d89ab16",
   "metadata": {},
   "outputs": [
    {
     "name": "stdout",
     "output_type": "stream",
     "text": [
      "Python Kursu : \n",
      "riniz (40 saat)\n"
     ]
    }
   ],
   "source": [
    "# 4- 'course' içinden ilk 15 ve son 15 karakterlerini alın.\n",
    "\n",
    "print (course [:15])\n",
    "print (course [-15:])"
   ]
  },
  {
   "cell_type": "code",
   "execution_count": 14,
   "id": "ddfefef9-f0cf-42f3-92ba-b74c829a9907",
   "metadata": {},
   "outputs": [
    {
     "name": "stdout",
     "output_type": "stream",
     "text": [
      ")taas 04( zinirebheR amalmargorP nohtyP anoS natşaB : usruK nohtyP\n"
     ]
    }
   ],
   "source": [
    "# 5- 'course' ifadesindeki karakterleri tersten yazdırın.\n",
    "\n",
    "print (course [::-1]) #-1 yazarak bütün karakterleri ters yazdırır."
   ]
  },
  {
   "cell_type": "code",
   "execution_count": 16,
   "id": "05edb4fa-71e2-43da-a577-e6b03e481c24",
   "metadata": {},
   "outputs": [],
   "source": [
    "name, surname, age, job = 'Bora' , 'Yılmaz' , 32 , 'Mühendis'"
   ]
  },
  {
   "cell_type": "code",
   "execution_count": 20,
   "id": "30d0169f-9c2a-4573-845e-673eefe838c4",
   "metadata": {},
   "outputs": [
    {
     "name": "stdout",
     "output_type": "stream",
     "text": [
      "Benim adım Bora Yılmaz, Yaşım 32 ve mesleğim Mühendis\n"
     ]
    }
   ],
   "source": [
    "# 6- Yukarıda verilen değişkenler için ekrana aşağıdaki ifadeyi yazdırın.\n",
    "#   'Benim adım Bora Yılmaz, Yaşım 32 ve mesleğim Mühendis.'\n",
    "\n",
    "print ('Benim adım {}, Yaşım {} ve mesleğim {}'.format ((name + ' ' + surname), age, job))"
   ]
  },
  {
   "cell_type": "code",
   "execution_count": 22,
   "id": "c6cf3be6-2b71-4a1f-bfe9-cc66a23253e6",
   "metadata": {},
   "outputs": [
    {
     "name": "stdout",
     "output_type": "stream",
     "text": [
      "Hello World\n",
      "Hello World\n"
     ]
    }
   ],
   "source": [
    "# 7- 'Hello world' ifadesindeki w harfini 'W' ile değiştirin.\n",
    "\n",
    "s = 'Hello world'\n",
    "s = s[0:6] + 'W' + s[-4:]\n",
    "print (s)\n",
    "\n",
    "#veya\n",
    "\n",
    "s.replace ('w', 'W') #replace ile değişim işlemi yapılabilir.\n",
    "print (s)"
   ]
  },
  {
   "cell_type": "code",
   "execution_count": 24,
   "id": "b9d977ff-0700-4b86-b845-ba0a2727782b",
   "metadata": {},
   "outputs": [
    {
     "name": "stdout",
     "output_type": "stream",
     "text": [
      "abcabcabc\n"
     ]
    }
   ],
   "source": [
    "# 8- 'abc' ifadesini yan yana 3 defa yazdırınız.\n",
    "\n",
    "print ('abc'*3)"
   ]
  },
  {
   "cell_type": "code",
   "execution_count": null,
   "id": "9a99748c-f9ae-4499-9c28-de4de40c6fe3",
   "metadata": {},
   "outputs": [],
   "source": []
  }
 ],
 "metadata": {
  "kernelspec": {
   "display_name": "Python 3 (ipykernel)",
   "language": "python",
   "name": "python3"
  },
  "language_info": {
   "codemirror_mode": {
    "name": "ipython",
    "version": 3
   },
   "file_extension": ".py",
   "mimetype": "text/x-python",
   "name": "python",
   "nbconvert_exporter": "python",
   "pygments_lexer": "ipython3",
   "version": "3.10.14"
  }
 },
 "nbformat": 4,
 "nbformat_minor": 5
}
