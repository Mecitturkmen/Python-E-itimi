{
 "cells": [
  {
   "cell_type": "markdown",
   "id": "446f69d0-784b-419c-bee2-e3f9b024b941",
   "metadata": {},
   "source": [
    "## QUİZ"
   ]
  },
  {
   "cell_type": "code",
   "execution_count": 4,
   "id": "a4003890-a4e1-4a14-b2c1-94305900ae71",
   "metadata": {},
   "outputs": [],
   "source": [
    "x, y, z = 2, 5, 10"
   ]
  },
  {
   "cell_type": "code",
   "execution_count": 10,
   "id": "a17a577b-276e-4e69-b257-472917838fc2",
   "metadata": {},
   "outputs": [
    {
     "name": "stdin",
     "output_type": "stream",
     "text": [
      "1. Sayıyı Giriniz: 2\n",
      "2. Sayıyı Giriniz: 4\n"
     ]
    },
    {
     "name": "stdout",
     "output_type": "stream",
     "text": [
      "Girmiş olduğunuz Sayıların Çarpımı 8'dir. Aynı zamanda farkları ise -9'dir.\n"
     ]
    }
   ],
   "source": [
    "# 1- Kullanıcıdan aldığınız 2 sayının çarpımı ile x,y,z toplamının farkı nedir ?\n",
    "\n",
    "a = int(input(\"1. Sayıyı Giriniz:\"))\n",
    "b = int(input(\"2. Sayıyı Giriniz:\"))\n",
    "c = a * b\n",
    "d = x + y + z\n",
    "e = c - d\n",
    "\n",
    "print (\"Girmiş olduğunuz Sayıların Çarpımı {}'dir. Aynı zamanda farkları ise {}'dir.\".format(c,e))"
   ]
  },
  {
   "cell_type": "code",
   "execution_count": 16,
   "id": "1a02fc80-b6ec-45e6-915d-41734d47875d",
   "metadata": {},
   "outputs": [
    {
     "name": "stdout",
     "output_type": "stream",
     "text": [
      "2\n"
     ]
    }
   ],
   "source": [
    "# 2- y' nin  x' e kalansız bölümünü hesaplayınız.\n",
    "\n",
    "result = y // x\n",
    "print (result)"
   ]
  },
  {
   "cell_type": "code",
   "execution_count": 18,
   "id": "d7e1ea16-5a59-482b-a664-611bd6b78799",
   "metadata": {},
   "outputs": [
    {
     "name": "stdout",
     "output_type": "stream",
     "text": [
      "2\n"
     ]
    }
   ],
   "source": [
    "# 3- (x,y,z) toplamının mod 3' ü nedir ?\n",
    "\n",
    "toplam = (x+ y+ z)\n",
    "result = toplam % 3\n",
    "print(result)"
   ]
  },
  {
   "cell_type": "code",
   "execution_count": 20,
   "id": "731d12a7-9dca-455e-b5d2-d9e78e9d198f",
   "metadata": {},
   "outputs": [
    {
     "name": "stdout",
     "output_type": "stream",
     "text": [
      "25\n"
     ]
    }
   ],
   "source": [
    "# 4- y' nin x. kuvvetini hesaplayınız.\n",
    "\n",
    "result = y ** x\n",
    "print (result)"
   ]
  },
  {
   "cell_type": "code",
   "execution_count": 28,
   "id": "efabf48a-8ce3-4315-875e-5de188fcc739",
   "metadata": {},
   "outputs": [
    {
     "name": "stdout",
     "output_type": "stream",
     "text": [
      "216\n"
     ]
    }
   ],
   "source": [
    "# 5- x, *y, z = numbers işlemine göre z' nin küpü kaçtır ?\n",
    "\n",
    "numbers = 1, 5, 7, 10, 6\n",
    "x, *y ,z = numbers\n",
    "result = z ** 3\n",
    "print(result)"
   ]
  },
  {
   "cell_type": "code",
   "execution_count": 36,
   "id": "246c06bf-20c0-4c32-bd2d-d702d4377d0e",
   "metadata": {},
   "outputs": [
    {
     "name": "stdout",
     "output_type": "stream",
     "text": [
      "22\n"
     ]
    }
   ],
   "source": [
    "# 6- x, *y, z = numbers işlemine göre y nin değerleri toplamı kaçtır ?\n",
    "\n",
    "numbers = 1, 5, 7, 10, 6\n",
    "x, *y ,z = numbers\n",
    "result = y[0] + y[1] + y[2]\n",
    "\n",
    "print(result)"
   ]
  },
  {
   "cell_type": "code",
   "execution_count": null,
   "id": "a07f7f96-490a-4cfd-9258-db6c56a9b296",
   "metadata": {},
   "outputs": [],
   "source": []
  }
 ],
 "metadata": {
  "kernelspec": {
   "display_name": "Python 3 (ipykernel)",
   "language": "python",
   "name": "python3"
  },
  "language_info": {
   "codemirror_mode": {
    "name": "ipython",
    "version": 3
   },
   "file_extension": ".py",
   "mimetype": "text/x-python",
   "name": "python",
   "nbconvert_exporter": "python",
   "pygments_lexer": "ipython3",
   "version": "3.10.14"
  }
 },
 "nbformat": 4,
 "nbformat_minor": 5
}
