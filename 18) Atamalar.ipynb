{
 "cells": [
  {
   "cell_type": "markdown",
   "id": "d44cb169-785c-4afb-a257-bdd8a7e71f82",
   "metadata": {},
   "source": [
    "## Atamalar"
   ]
  },
  {
   "cell_type": "code",
   "execution_count": 5,
   "id": "47bdd623-96b8-4c36-b62c-9407e4d87854",
   "metadata": {},
   "outputs": [
    {
     "name": "stdout",
     "output_type": "stream",
     "text": [
      "5 10 20\n"
     ]
    }
   ],
   "source": [
    "# x = 5\n",
    "# y = 10\n",
    "# z = 20\n",
    "\n",
    "x,y,z = 5,10,20\n",
    "print (x,y,z)"
   ]
  },
  {
   "cell_type": "raw",
   "id": "3bb1f4f9-3fc5-4ca6-96a9-dc15353f1b56",
   "metadata": {},
   "source": [
    "# x, y = y, x Birbiri Arasında değiştirme anlamında\n",
    "# x += 5          # x = x + 5\n",
    "# x -= 5          # x = x - 5\n",
    "# x *= 5          # x = x * 5\n",
    "# x /= 5          # x = x / 5\n",
    "# x %= 5          # x = x % 5\n",
    "# y //= 5         # y = y // 5\n",
    "# y **= z         # y = y ** z"
   ]
  },
  {
   "cell_type": "code",
   "execution_count": 8,
   "id": "337a5036-4532-4659-a418-cfd7b3d7ad4c",
   "metadata": {},
   "outputs": [
    {
     "name": "stdout",
     "output_type": "stream",
     "text": [
      "(1, 2, 3, 4, 5)\n",
      "<class 'tuple'>\n"
     ]
    }
   ],
   "source": [
    "values = 1, 2, 3, 4, 5\n",
    "\n",
    "print(values)\n",
    "print(type(values))"
   ]
  },
  {
   "cell_type": "code",
   "execution_count": 16,
   "id": "0e6521b0-5f15-4119-b5b6-6d4ebc9eb21f",
   "metadata": {},
   "outputs": [
    {
     "name": "stdout",
     "output_type": "stream",
     "text": [
      "1 2 [3, 4, 5]\n",
      "<class 'tuple'>\n",
      "1 2 4\n"
     ]
    }
   ],
   "source": [
    "x, y, *z = values # Anlamı şudur x ve y ilk indeksi alsın.\n",
    "#z ise geriye kalanları alarak listeye dönüşsün.\n",
    "\n",
    "print(x, y, z)\n",
    "print(type(values))\n",
    "print(x, y, z[1])"
   ]
  },
  {
   "cell_type": "code",
   "execution_count": null,
   "id": "832dfe48-3263-403e-8da3-1722962fe1b3",
   "metadata": {},
   "outputs": [],
   "source": []
  }
 ],
 "metadata": {
  "kernelspec": {
   "display_name": "Python 3 (ipykernel)",
   "language": "python",
   "name": "python3"
  },
  "language_info": {
   "codemirror_mode": {
    "name": "ipython",
    "version": 3
   },
   "file_extension": ".py",
   "mimetype": "text/x-python",
   "name": "python",
   "nbconvert_exporter": "python",
   "pygments_lexer": "ipython3",
   "version": "3.10.14"
  }
 },
 "nbformat": 4,
 "nbformat_minor": 5
}
