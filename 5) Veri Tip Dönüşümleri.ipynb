{
 "cells": [
  {
   "cell_type": "markdown",
   "id": "9911a66e-9f31-4684-84d1-d6a58f9472d9",
   "metadata": {},
   "source": [
    "## VERİ TİP DÖNÜŞÜMLERİ"
   ]
  },
  {
   "cell_type": "code",
   "execution_count": 5,
   "id": "3494642d-8f4d-48ac-9adf-b34c2a44b9c2",
   "metadata": {},
   "outputs": [
    {
     "data": {
      "text/plain": [
       "\"\\nx = int (input ('1.sayı: ')) #Başına int konulmaz ise string tipi olarak algılar\\ny = int (input ('2.sayı: '))\\ntoplam = x + y\\nprint (toplam)\\n\""
      ]
     },
     "execution_count": 5,
     "metadata": {},
     "output_type": "execute_result"
    }
   ],
   "source": [
    "'''\n",
    "x = int (input ('1.sayı: ')) #Başına int konulmaz ise string tipi olarak algılar\n",
    "y = int (input ('2.sayı: '))\n",
    "toplam = x + y\n",
    "print (toplam)\n",
    "'''"
   ]
  },
  {
   "cell_type": "code",
   "execution_count": 7,
   "id": "ebae1239-108b-4c9f-8dfc-14ebf3a14b20",
   "metadata": {},
   "outputs": [],
   "source": [
    "x = 5               #int\n",
    "y = 2.5             #float\n",
    "name = \"Mecit\"      #string\n",
    "isOnline = True    #boolean"
   ]
  },
  {
   "cell_type": "code",
   "execution_count": 9,
   "id": "85c9ac6c-384a-46fd-9ecb-6031354acba9",
   "metadata": {},
   "outputs": [
    {
     "name": "stdout",
     "output_type": "stream",
     "text": [
      "5.0\n",
      "<class 'float'>\n"
     ]
    }
   ],
   "source": [
    "# int to float\n",
    "x = float(x)\n",
    "print(x)       # x = 5.0 olur yani float oldu.\n",
    "print(type(x))  # ctrl + k + u yorum satırını tam tersine çevirir."
   ]
  },
  {
   "cell_type": "code",
   "execution_count": 11,
   "id": "d1279bd0-f318-4264-8901-8e5e1e44e22a",
   "metadata": {},
   "outputs": [
    {
     "name": "stdout",
     "output_type": "stream",
     "text": [
      "2\n",
      "<class 'int'>\n"
     ]
    }
   ],
   "source": [
    " # float to int\n",
    "y = int(y)\n",
    "print(y)       # y = 2 olur yani int oldu. Ondalıklı kısmını siler.\n",
    "print (type (y))"
   ]
  },
  {
   "cell_type": "code",
   "execution_count": 13,
   "id": "deaa6521-957e-4ccf-af0c-73c21689e0fa",
   "metadata": {},
   "outputs": [
    {
     "name": "stdout",
     "output_type": "stream",
     "text": [
      "7.0\n",
      "<class 'float'>\n"
     ]
    }
   ],
   "source": [
    "result = x + y\n",
    "print (result)\n",
    "print(type (result))"
   ]
  },
  {
   "cell_type": "code",
   "execution_count": 15,
   "id": "92c7beab-1024-4d51-853c-7066ad476e43",
   "metadata": {},
   "outputs": [
    {
     "name": "stdout",
     "output_type": "stream",
     "text": [
      "True\n",
      "<class 'str'>\n"
     ]
    }
   ],
   "source": [
    "#bool to str\n",
    "isOnline = str (isOnline)\n",
    "print (isOnline)\n",
    "print(type(isOnline))"
   ]
  },
  {
   "cell_type": "code",
   "execution_count": 19,
   "id": "47d4a74d-5e8b-4f68-a365-c250381f8420",
   "metadata": {},
   "outputs": [
    {
     "ename": "ValueError",
     "evalue": "invalid literal for int() with base 10: 'True'",
     "output_type": "error",
     "traceback": [
      "\u001b[1;31m---------------------------------------------------------------------------\u001b[0m",
      "\u001b[1;31mValueError\u001b[0m                                Traceback (most recent call last)",
      "Cell \u001b[1;32mIn[19], line 2\u001b[0m\n\u001b[0;32m      1\u001b[0m \u001b[38;5;66;03m#bool to int\u001b[39;00m\n\u001b[1;32m----> 2\u001b[0m isOnline \u001b[38;5;241m=\u001b[39m \u001b[38;5;28;43mint\u001b[39;49m\u001b[43m(\u001b[49m\u001b[43misOnline\u001b[49m\u001b[43m)\u001b[49m\n\u001b[0;32m      3\u001b[0m \u001b[38;5;28mprint\u001b[39m (isOnline)       \u001b[38;5;66;03m#True mantıkta 1 , false mantıkta 0 anlamına gelir.\u001b[39;00m\n\u001b[0;32m      4\u001b[0m \u001b[38;5;28mprint\u001b[39m (\u001b[38;5;28mtype\u001b[39m(isOnline))\n",
      "\u001b[1;31mValueError\u001b[0m: invalid literal for int() with base 10: 'True'"
     ]
    }
   ],
   "source": [
    "#bool to int\n",
    "isOnline = int(isOnline)\n",
    "print (isOnline)       #True mantıkta 1 , false mantıkta 0 anlamına gelir.\n",
    "print (type(isOnline))"
   ]
  },
  {
   "cell_type": "code",
   "execution_count": 21,
   "id": "f281c252-73f0-4cd4-aa07-624c31b6a907",
   "metadata": {},
   "outputs": [],
   "source": [
    "#Soru:  Daire Alanı : π r²\n",
    "#       Daire Çevresi: 2πr\n",
    "# Yarı çapı bilgisi kullanıcıdan alınan bir dairenin alanı ve dairesini hesaplayınız. (r:3.14)"
   ]
  },
  {
   "cell_type": "code",
   "execution_count": 25,
   "id": "0fb0d611-9aad-4dd9-9487-10c00dcaeff1",
   "metadata": {},
   "outputs": [
    {
     "name": "stdin",
     "output_type": "stream",
     "text": [
      "pidegeri=  3\n",
      "yarıçap=  2\n"
     ]
    },
    {
     "name": "stdout",
     "output_type": "stream",
     "text": [
      "12.0\n",
      "12.0\n"
     ]
    }
   ],
   "source": [
    "pi = int (input('pidegeri= '))\n",
    "r = float (input('yarıçap= '))\n",
    "dairealan1 = pi*(r**2)\n",
    "dairecevre1= 2*pi*r\n",
    "print (dairealan1)\n",
    "print (dairecevre1)"
   ]
  },
  {
   "cell_type": "code",
   "execution_count": null,
   "id": "bad7bf8c-85af-46a8-96a4-2d587b8300e3",
   "metadata": {},
   "outputs": [],
   "source": []
  }
 ],
 "metadata": {
  "kernelspec": {
   "display_name": "Python 3 (ipykernel)",
   "language": "python",
   "name": "python3"
  },
  "language_info": {
   "codemirror_mode": {
    "name": "ipython",
    "version": 3
   },
   "file_extension": ".py",
   "mimetype": "text/x-python",
   "name": "python",
   "nbconvert_exporter": "python",
   "pygments_lexer": "ipython3",
   "version": "3.10.14"
  }
 },
 "nbformat": 4,
 "nbformat_minor": 5
}
