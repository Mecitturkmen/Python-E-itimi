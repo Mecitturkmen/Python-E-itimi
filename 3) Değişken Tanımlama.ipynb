{
 "cells": [
  {
   "cell_type": "markdown",
   "id": "ff6c7fce-b39a-4257-ac79-f02f7b05e673",
   "metadata": {},
   "source": [
    "### DEĞİŞKEN TANIMLAMA KURALLARI\n",
    "    # Kabul edilmeyen degisken isim atama senaryolari:\n",
    "    # * sayi ile baslamak\n",
    "    # * bosluk icermek\n",
    "    # * \"*(/ gibi semboller icermek\n",
    "    # * rezerve edilmis isimleri kullanmak"
   ]
  },
  {
   "cell_type": "code",
   "execution_count": 4,
   "id": "8e085bbd-499e-41a5-b8f2-9b5c627b5a06",
   "metadata": {},
   "outputs": [
    {
     "name": "stdout",
     "output_type": "stream",
     "text": [
      "3650.0\n",
      "2920.0\n",
      "3650.0\n",
      "2920.0\n"
     ]
    }
   ],
   "source": [
    "maasAli = 5000\n",
    "maasAhmet = 4000\n",
    "vergi = 0.27\n",
    "\n",
    "print (maasAli- (maasAli * vergi))\n",
    "print (maasAhmet- (maasAhmet * vergi))\n",
    "print (5000 - (5000 * 0.27))\n",
    "print (4000 - (4000 * 0.27))"
   ]
  },
  {
   "cell_type": "code",
   "execution_count": 6,
   "id": "1a06e978-f689-4050-9873-81ed4cc4b64d",
   "metadata": {},
   "outputs": [
    {
     "name": "stdout",
     "output_type": "stream",
     "text": [
      "50\n"
     ]
    }
   ],
   "source": [
    "number1 = 20\n",
    "number1 += 30 # number1 = number1 + 30 anlamına gelir\n",
    "print (number1)"
   ]
  },
  {
   "cell_type": "code",
   "execution_count": 8,
   "id": "17e445a6-d99c-4f37-8c60-cef900d7f9ec",
   "metadata": {},
   "outputs": [],
   "source": [
    "x = 1\n",
    "y = 2.3\n",
    "name = \"Mecit\"\n",
    "isStudent = True"
   ]
  },
  {
   "cell_type": "code",
   "execution_count": 10,
   "id": "0d7ef245-f5bb-4881-b6bd-b21e49be7135",
   "metadata": {},
   "outputs": [],
   "source": [
    "x, y, name, isStudent = (1,2.3,\"Mecit\", True)"
   ]
  },
  {
   "cell_type": "code",
   "execution_count": 12,
   "id": "aa7015fe-855f-4cbc-be95-ee37cab09464",
   "metadata": {},
   "outputs": [
    {
     "name": "stdout",
     "output_type": "stream",
     "text": [
      "30\n"
     ]
    }
   ],
   "source": [
    "a = 10\n",
    "b = 20 \n",
    "print (a+b) #30"
   ]
  },
  {
   "cell_type": "code",
   "execution_count": 14,
   "id": "205604e1-6400-4544-8812-22fc380edb51",
   "metadata": {},
   "outputs": [
    {
     "name": "stdout",
     "output_type": "stream",
     "text": [
      "1020\n"
     ]
    }
   ],
   "source": [
    "m = '10'\n",
    "t = '20'\n",
    "print (m+t) #1020"
   ]
  },
  {
   "cell_type": "code",
   "execution_count": 16,
   "id": "9359aae1-974c-432d-92c3-d6d593739c88",
   "metadata": {},
   "outputs": [
    {
     "name": "stdout",
     "output_type": "stream",
     "text": [
      "Mecit Türkmen\n"
     ]
    }
   ],
   "source": [
    "firstname = \"Mecit\"\n",
    "lastname = \"Türkmen\"\n",
    "print (firstname + ' ' +lastname)"
   ]
  },
  {
   "cell_type": "code",
   "execution_count": null,
   "id": "0c883a4a-ad78-49d1-bc02-91c0b51591df",
   "metadata": {},
   "outputs": [],
   "source": []
  }
 ],
 "metadata": {
  "kernelspec": {
   "display_name": "Python 3 (ipykernel)",
   "language": "python",
   "name": "python3"
  },
  "language_info": {
   "codemirror_mode": {
    "name": "ipython",
    "version": 3
   },
   "file_extension": ".py",
   "mimetype": "text/x-python",
   "name": "python",
   "nbconvert_exporter": "python",
   "pygments_lexer": "ipython3",
   "version": "3.10.14"
  }
 },
 "nbformat": 4,
 "nbformat_minor": 5
}
