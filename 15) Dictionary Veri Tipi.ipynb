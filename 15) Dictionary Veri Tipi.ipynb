{
 "cells": [
  {
   "cell_type": "markdown",
   "id": "f57aa7b5-3782-4ae6-9f2e-5998fbb9d2a6",
   "metadata": {},
   "source": [
    "## Dictionary Veri Tipi"
   ]
  },
  {
   "cell_type": "code",
   "execution_count": 2,
   "id": "5e1ad6f4-239a-47e0-956c-3567514e88d1",
   "metadata": {},
   "outputs": [],
   "source": [
    "#Bu veri tipi bir anahtar(key) ve bir değerden(value) oluşur."
   ]
  },
  {
   "cell_type": "code",
   "execution_count": 10,
   "id": "b352c661-c788-46a1-ac7f-67cf18eefe62",
   "metadata": {},
   "outputs": [
    {
     "name": "stdout",
     "output_type": "stream",
     "text": [
      "41\n",
      "34\n"
     ]
    }
   ],
   "source": [
    "sehirler = [\"Kocaeli\", \"İstanbul\"]\n",
    "plakalar = [41,34]\n",
    "\n",
    "print (plakalar[sehirler.index(\"Kocaeli\")])\n",
    "print (plakalar[sehirler.index(\"İstanbul\")])"
   ]
  },
  {
   "cell_type": "code",
   "execution_count": 12,
   "id": "50cd01a4-bea9-4445-95ec-37700a8371ac",
   "metadata": {},
   "outputs": [],
   "source": [
    "# Yukarıdaki örnekte kod uzadığını görüyoruz. Bunun için sözlük veri yapısında yazarsak"
   ]
  },
  {
   "cell_type": "code",
   "execution_count": 14,
   "id": "2daa6739-1ba4-4156-ba26-6285c582d68d",
   "metadata": {},
   "outputs": [
    {
     "name": "stdout",
     "output_type": "stream",
     "text": [
      "41\n",
      "34\n"
     ]
    }
   ],
   "source": [
    "plakalar = { \"Kocaeli\" : 41, \"İstanbul\":34}\n",
    "\n",
    "print (plakalar[\"Kocaeli\"])\n",
    "print (plakalar[\"İstanbul\"])"
   ]
  },
  {
   "cell_type": "code",
   "execution_count": 20,
   "id": "065be2cc-97f1-4fc1-bfe3-32a72a96fe09",
   "metadata": {},
   "outputs": [],
   "source": [
    "plakalar[\"Ankara\"] = 6 #Sözlük yapısında veri içerisine tekrar eleman ataması yapılabilir."
   ]
  },
  {
   "cell_type": "code",
   "execution_count": 18,
   "id": "414787af-45b9-4907-ad6e-49edab1df70e",
   "metadata": {},
   "outputs": [
    {
     "name": "stdout",
     "output_type": "stream",
     "text": [
      "{'Kocaeli': 41, 'İstanbul': 34, 'Ankara': 6}\n"
     ]
    }
   ],
   "source": [
    "print (plakalar)"
   ]
  },
  {
   "cell_type": "code",
   "execution_count": 22,
   "id": "d85ecfed-4ec7-44da-969f-ec2ff5c55678",
   "metadata": {},
   "outputs": [],
   "source": [
    "users = {\n",
    "    \"sadıkturan\" : 36,\n",
    "    \"cinarturan\" :2\n",
    "}"
   ]
  },
  {
   "cell_type": "code",
   "execution_count": 24,
   "id": "e6b30668-ba21-4d8d-a798-5a46cbba181b",
   "metadata": {},
   "outputs": [
    {
     "name": "stdout",
     "output_type": "stream",
     "text": [
      "2\n"
     ]
    }
   ],
   "source": [
    "print(users[\"cinarturan\"])"
   ]
  },
  {
   "cell_type": "code",
   "execution_count": 26,
   "id": "4e3065d4-1460-4400-8bd8-212c37868754",
   "metadata": {},
   "outputs": [],
   "source": [
    "users = {\n",
    "    \"sadıkturan\" : {\n",
    "        \"age\" : 36,\n",
    "        \"email\" : \"sadık@gmail.com\",\n",
    "        \"address\" : \"kocaeli\",\n",
    "        \"phone\" : \"12341234\"\n",
    "    },\n",
    "    \"cinarturan\" : {\n",
    "        \"age\" : 2,\n",
    "        \"email\" : \"cinark@gmail.com\",\n",
    "        \"address\" : \"kocaeli\",\n",
    "        \"phone\" : \"01010101\"\n",
    "    }\n",
    "}"
   ]
  },
  {
   "cell_type": "code",
   "execution_count": 28,
   "id": "1809bb76-1535-44bb-b527-1eb3c729c39d",
   "metadata": {},
   "outputs": [
    {
     "name": "stdout",
     "output_type": "stream",
     "text": [
      "{'age': 2, 'email': 'cinark@gmail.com', 'address': 'kocaeli', 'phone': '01010101'}\n"
     ]
    }
   ],
   "source": [
    "print(users[\"cinarturan\"])"
   ]
  },
  {
   "cell_type": "code",
   "execution_count": 30,
   "id": "704b25e3-8912-4a77-90de-c3a5273951f2",
   "metadata": {},
   "outputs": [
    {
     "name": "stdout",
     "output_type": "stream",
     "text": [
      "2\n"
     ]
    }
   ],
   "source": [
    "print(users[\"cinarturan\"][\"age\"])"
   ]
  },
  {
   "cell_type": "code",
   "execution_count": null,
   "id": "9c13374e-1222-4759-8fce-691e70b7c8ed",
   "metadata": {},
   "outputs": [],
   "source": []
  }
 ],
 "metadata": {
  "kernelspec": {
   "display_name": "Python 3 (ipykernel)",
   "language": "python",
   "name": "python3"
  },
  "language_info": {
   "codemirror_mode": {
    "name": "ipython",
    "version": 3
   },
   "file_extension": ".py",
   "mimetype": "text/x-python",
   "name": "python",
   "nbconvert_exporter": "python",
   "pygments_lexer": "ipython3",
   "version": "3.10.14"
  }
 },
 "nbformat": 4,
 "nbformat_minor": 5
}
