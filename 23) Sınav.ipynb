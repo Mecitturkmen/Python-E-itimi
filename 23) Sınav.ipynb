{
 "cells": [
  {
   "cell_type": "markdown",
   "id": "d544b9a3-23d7-4c41-a031-8eaced890ab9",
   "metadata": {},
   "source": [
    "## QUİZ"
   ]
  },
  {
   "cell_type": "code",
   "execution_count": 4,
   "id": "3e5888e9-abca-4dde-8032-0946d7376b7b",
   "metadata": {},
   "outputs": [
    {
     "name": "stdin",
     "output_type": "stream",
     "text": [
      "Sayı: 34\n"
     ]
    },
    {
     "name": "stdout",
     "output_type": "stream",
     "text": [
      "Girmiş olduğunuz Sayı : 34 0 ile 100 arasında mı? True\n"
     ]
    }
   ],
   "source": [
    "# 1- Girilen bir sayının 0-100 arasında olup olmadığını kontrol ediniz.\n",
    "\n",
    "sayı = int(input(\"Sayı:\"))\n",
    "\n",
    "result = (sayı > 0) and (sayı < 100)\n",
    "print(f\"Girmiş olduğunuz Sayı : {sayı} 0 ile 100 arasında mı? {result}\")"
   ]
  },
  {
   "cell_type": "code",
   "execution_count": 6,
   "id": "1b4b20c4-2793-4de1-aa01-d58b3d32176c",
   "metadata": {},
   "outputs": [
    {
     "name": "stdin",
     "output_type": "stream",
     "text": [
      "Sayı: 12\n"
     ]
    },
    {
     "name": "stdout",
     "output_type": "stream",
     "text": [
      "Girmiş olduğunuz Sayı 12 ve hem pozitif hemde çift mi True\n"
     ]
    }
   ],
   "source": [
    "# 2- Girilen bir sayının pozitif çift sayı olup olmadığını kontrol ediniz.\n",
    "\n",
    "sayı = int(input(\"Sayı:\"))\n",
    "\n",
    "result = (sayı > 0) and (sayı % 2 == 0)\n",
    "print(f\"Girmiş olduğunuz Sayı {sayı} ve hem pozitif hemde çift mi {result}\")"
   ]
  },
  {
   "cell_type": "code",
   "execution_count": 8,
   "id": "08b48da2-132e-4345-80a0-8f77e711c270",
   "metadata": {},
   "outputs": [
    {
     "name": "stdin",
     "output_type": "stream",
     "text": [
      "Email: 1\n",
      "Parola: 2\n"
     ]
    },
    {
     "name": "stdout",
     "output_type": "stream",
     "text": [
      "uygulamaya giriş başarılı mı: False\n"
     ]
    }
   ],
   "source": [
    "# 3- Email ve parola bilgileri ile giriş kontrolü yapınız. \n",
    "\n",
    "email = 'email@sadikturan.com'\n",
    "password = 'abc123'\n",
    "\n",
    "g_email = input(\"Email:\")\n",
    "g_parola = input(\"Parola:\")\n",
    "\n",
    "result = ( email == g_email) and (password == g_parola)\n",
    "print(f'uygulamaya giriş başarılı mı: {result}')"
   ]
  },
  {
   "cell_type": "code",
   "execution_count": 1,
   "id": "1b620f6c-66ec-4f29-953b-d20d913bc5b2",
   "metadata": {},
   "outputs": [
    {
     "name": "stdin",
     "output_type": "stream",
     "text": [
      "a:  1\n",
      "b:  2\n",
      "c:  3\n"
     ]
    },
    {
     "name": "stdout",
     "output_type": "stream",
     "text": [
      "a en büyük sayıdır: False\n",
      "b en büyük sayıdır : False\n",
      "c en büyük sayıdır : True\n"
     ]
    }
   ],
   "source": [
    "# 4- Girilen 3 sayıyı büyüklük olarak karşılaştırınız.\n",
    "\n",
    "a = int(input('a: '))\n",
    "b = int(input('b: '))\n",
    "c = int(input('c: '))\n",
    "\n",
    "result = (a > b) and (a >c)\n",
    "print(f\"a en büyük sayıdır: {result}\")\n",
    "\n",
    "result = (b > a) and (b > c)\n",
    "print(f'b en büyük sayıdır : {result}')\n",
    "\n",
    "result = (c > a) and (c > b)\n",
    "print(f'c en büyük sayıdır : {result}')"
   ]
  },
  {
   "cell_type": "code",
   "execution_count": 5,
   "id": "cd85315d-a631-4aea-8ac3-36d51bb705ea",
   "metadata": {},
   "outputs": [
    {
     "name": "stdin",
     "output_type": "stream",
     "text": [
      "1. Sınavınız: 15\n",
      "2. Sınavınız: 15\n",
      "3. Sınavınız: 70\n"
     ]
    },
    {
     "name": "stdout",
     "output_type": "stream",
     "text": [
      "Aldığınız notun ortalması 37.0 ve dersi geçme durumunuz True\n",
      "Aldığınız notun ortalması 37.0 ve dersi geçme durumunuz True\n"
     ]
    }
   ],
   "source": [
    "# 5- Kullanıcıdan 2 vize (%60) ve final (%40) notunu alıp ortalama hesaplayınız.\n",
    "#    Eğer ortalama 50 ve üstündeyse geçti değilse kaldı yazdırın.\n",
    "#    a-) Ortamalama 50 olsa bile final notu en az 50 olmalıdır.\n",
    "#    b-) Finalden 70 alındığında ortalamanın önemi olmasın.\n",
    "\n",
    "vıze1 = int(input(\"1. Sınavınız:\"))\n",
    "vıze2 = int(input(\"2. Sınavınız:\"))\n",
    "fınal = int(input(\"3. Sınavınız:\"))\n",
    "\n",
    "not_hesapla = (((vıze1 + vıze2) / 2) * 0.60) + (fınal * 0.40)\n",
    "\n",
    "result = (not_hesapla >= 50) or (fınal >=70)\n",
    "print (f\"Aldığınız notun ortalması {not_hesapla} ve dersi geçme durumunuz {result}\")\n",
    "\n",
    "result = (fınal >= 50)\n",
    "print (f\"Aldığınız notun ortalması {not_hesapla} ve dersi geçme durumunuz {result}\")\n"
   ]
  },
  {
   "cell_type": "code",
   "execution_count": 9,
   "id": "c6799160-e5b7-4f7e-8b0e-60593ef44cef",
   "metadata": {},
   "outputs": [
    {
     "name": "stdin",
     "output_type": "stream",
     "text": [
      "adınız:  mecit\n",
      "kilonuz:  88\n",
      "boyunuz:  182\n"
     ]
    },
    {
     "name": "stdout",
     "output_type": "stream",
     "text": [
      "mecit kilo indeksin: 0.002656683975365294 ve kilo değerlendirmen zayıf: True\n",
      "mecit kilo indeksin: 0.002656683975365294 ve kilo değerlendirmen normal: False\n",
      "mecit kilo indeksin: 0.002656683975365294 ve kilo değerlendirmen kilolu: False\n",
      "mecit kilo indeksin: 0.002656683975365294 ve kilo değerlendirmen obez: False\n"
     ]
    }
   ],
   "source": [
    "# 6- Kişinin ad, kilo ve boy bilgilerini alıp kilo indekslerini hesaplayınız.\n",
    "#    Formül: (Kilo / boy uzunluğunun karesi)\n",
    "#    Aşağıdaki tabloya göre kişi hangi gruba girmektedir.\n",
    "#    0-18.4    => Zayıf \n",
    "#    18.5-24.9 => Normal  \n",
    "#    25.0-29.9 => Fazla Kilolu\n",
    "#    30.0-34.9 => Şişman (Obez)\n",
    "\n",
    "name = input('adınız: ')\n",
    "kg = float(input('kilonuz: '))\n",
    "hg = float(input('boyunuz: '))\n",
    "\n",
    "index = (kg) / (hg ** 2)\n",
    "zayif = (index >= 0) and (index<=18.4)\n",
    "normal = (index>18.4) and (index<=24.9)\n",
    "kilolu = (index>24.9) and (index<=29.9)\n",
    "obez = (index>=29.9) and (index<=34.9)\n",
    "\n",
    "print(f'{name} kilo indeksin: {index} ve kilo değerlendirmen zayıf: {zayif}')\n",
    "print(f'{name} kilo indeksin: {index} ve kilo değerlendirmen normal: {normal}')\n",
    "print(f'{name} kilo indeksin: {index} ve kilo değerlendirmen kilolu: {kilolu}')\n",
    "print(f'{name} kilo indeksin: {index} ve kilo değerlendirmen obez: {obez}')"
   ]
  },
  {
   "cell_type": "code",
   "execution_count": null,
   "id": "7b38beaf-f187-44a3-9964-e84f4e985f1b",
   "metadata": {},
   "outputs": [],
   "source": []
  }
 ],
 "metadata": {
  "kernelspec": {
   "display_name": "Python 3 (ipykernel)",
   "language": "python",
   "name": "python3"
  },
  "language_info": {
   "codemirror_mode": {
    "name": "ipython",
    "version": 3
   },
   "file_extension": ".py",
   "mimetype": "text/x-python",
   "name": "python",
   "nbconvert_exporter": "python",
   "pygments_lexer": "ipython3",
   "version": "3.10.14"
  }
 },
 "nbformat": 4,
 "nbformat_minor": 5
}
