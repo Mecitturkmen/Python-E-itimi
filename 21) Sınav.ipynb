{
 "cells": [
  {
   "cell_type": "markdown",
   "id": "86e0fa4f-d0ee-408b-bad1-dbf74371e89f",
   "metadata": {},
   "source": [
    "## QUİZ"
   ]
  },
  {
   "cell_type": "code",
   "execution_count": 4,
   "id": "de4ee96f-e161-48fe-8c40-1fc9ff92a6eb",
   "metadata": {},
   "outputs": [
    {
     "name": "stdin",
     "output_type": "stream",
     "text": [
      "1. Sayı: 2\n",
      "2. Sayı: 3\n"
     ]
    },
    {
     "name": "stdout",
     "output_type": "stream",
     "text": [
      "a: 2 b: 3 den büyüktür: False\n"
     ]
    }
   ],
   "source": [
    "# 1- Girilen 2 sayıdan hangisi büyüktür ?\n",
    "\n",
    "a = int(input(\"1. Sayı:\"))\n",
    "b = int(input(\"2. Sayı:\"))\n",
    "\n",
    "result = (a > b)\n",
    "print(f'a: {a} b: {b} den büyüktür: {result}')"
   ]
  },
  {
   "cell_type": "code",
   "execution_count": 6,
   "id": "e963d86d-051f-4a26-8431-63de6f6ed870",
   "metadata": {},
   "outputs": [
    {
     "name": "stdin",
     "output_type": "stream",
     "text": [
      "1. vize:  40\n",
      "2. vize:  45\n",
      "final :  50\n"
     ]
    },
    {
     "name": "stdout",
     "output_type": "stream",
     "text": [
      "not ortalamanız : 45.5 ve dersten geçme durumunuz: False\n"
     ]
    }
   ],
   "source": [
    "# 2- Kullanıcıdan 2 vize (%60) ve final (%40) notunu alıp ortalama hesaplayınız.\n",
    "#    Eğer ortalama 50 ve üstündeyse geçti değilse kaldı yazdırın.\n",
    "\n",
    "vize1 = float(input('1. vize: '))\n",
    "vize2 = float(input('2. vize: '))\n",
    "final = float(input('final : '))\n",
    "\n",
    "ortalama = (((vize1 + vize2) / 2) * 0.6) + (final * 0.4)\n",
    "\n",
    "print(f'not ortalamanız : {ortalama} ve dersten geçme durumunuz: {ortalama>=50}')"
   ]
  },
  {
   "cell_type": "code",
   "execution_count": 12,
   "id": "55c9b164-5027-40b9-a428-48d35c9f19a5",
   "metadata": {},
   "outputs": [
    {
     "name": "stdin",
     "output_type": "stream",
     "text": [
      "Sayı Giriniz: 5\n"
     ]
    },
    {
     "name": "stdout",
     "output_type": "stream",
     "text": [
      "Grimiş olduğunuz Sayınız : 5 ve tek-çift durumu False\n"
     ]
    }
   ],
   "source": [
    "# 3- Girilen bir sayının tek mi çift mi olduğunu yazdırın.\n",
    "\n",
    "sayı = int(input(\"Sayı Giriniz:\"))\n",
    "\n",
    "tekcift = (sayı % 2 == 0)\n",
    "\n",
    "print(f\"Grimiş olduğunuz Sayınız : {sayı} ve tek-çift durumu {tekcift}\")"
   ]
  },
  {
   "cell_type": "code",
   "execution_count": 14,
   "id": "414e3643-9618-4a39-8262-4501b2929ff7",
   "metadata": {},
   "outputs": [
    {
     "name": "stdin",
     "output_type": "stream",
     "text": [
      "Sayı Giriniz: 8\n"
     ]
    },
    {
     "name": "stdout",
     "output_type": "stream",
     "text": [
      "Grimiş olduğunuz Sayınız : 8 ve pozitif mi durumu True\n"
     ]
    }
   ],
   "source": [
    "# 4- Girilen bir sayının negatif pozitif durumunu yazdırın.\n",
    "\n",
    "sayı = int(input(\"Sayı Giriniz:\"))\n",
    "\n",
    "pozneg = (sayı>0)\n",
    "\n",
    "print(f\"Grimiş olduğunuz Sayınız : {sayı} ve pozitif mi durumu {pozneg}\")"
   ]
  },
  {
   "cell_type": "code",
   "execution_count": 18,
   "id": "cfcb884d-041b-4efb-a8df-e9253c312adb",
   "metadata": {},
   "outputs": [
    {
     "name": "stdin",
     "output_type": "stream",
     "text": [
      "Mailiniz: email@sadikturan.com\n",
      "Parolanız: abc123\n"
     ]
    },
    {
     "name": "stdout",
     "output_type": "stream",
     "text": [
      "Email bilgisi doğrumu: True ve Parola doğru mu: True\n"
     ]
    }
   ],
   "source": [
    "# 5- Parola ve email bilgisini isteyip doğruluğunu kontrol ediniz.\n",
    "#    (email: email@sadikturan.com parola:abc123)\n",
    "\n",
    "dict = {\"email\": \"email@sadikturan.com\", \"parola\" : \"abc123\"}\n",
    "email = input(\"Mailiniz:\")\n",
    "parola = input(\"Parolanız:\")\n",
    "\n",
    "kontrol1 = (email == dict[\"email\"])\n",
    "kontrol2 = (parola == dict[\"parola\"])\n",
    "print(f'Email bilgisi doğrumu: {kontrol1} ve Parola doğru mu: {kontrol2}')"
   ]
  },
  {
   "cell_type": "code",
   "execution_count": null,
   "id": "1e3013fc-2a1d-4ee8-8270-b683157845db",
   "metadata": {},
   "outputs": [],
   "source": [
    "# 5- Parola ve email bilgisini isteyip doğruluğunu kontrol ediniz.\n",
    "#    (email: email@sadikturan.com parola:abc123)\n",
    "\n",
    "email = 'email@sadikturan.com'\n",
    "password = 'abc123'\n",
    "\n",
    "girilenEmail = input('email: ')\n",
    "girilenPassword = input('parola: ')\n",
    "\n",
    "isEmail = (email == girilenEmail.lower().strip())\n",
    "isPassword = (password == girilenPassword.lower())\n",
    "\n",
    "print(f'Email bilgisi doğrumu: {isEmail} ve Parola doğru mu: {isPassword}')"
   ]
  }
 ],
 "metadata": {
  "kernelspec": {
   "display_name": "Python 3 (ipykernel)",
   "language": "python",
   "name": "python3"
  },
  "language_info": {
   "codemirror_mode": {
    "name": "ipython",
    "version": 3
   },
   "file_extension": ".py",
   "mimetype": "text/x-python",
   "name": "python",
   "nbconvert_exporter": "python",
   "pygments_lexer": "ipython3",
   "version": "3.10.14"
  }
 },
 "nbformat": 4,
 "nbformat_minor": 5
}
