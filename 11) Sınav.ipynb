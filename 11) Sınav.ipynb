{
 "cells": [
  {
   "cell_type": "markdown",
   "id": "b815097d-907d-472d-8107-2a75a9c40d33",
   "metadata": {},
   "source": [
    "## QUİZ"
   ]
  },
  {
   "cell_type": "code",
   "execution_count": 2,
   "id": "be147417-39bf-4b5a-89ea-df4425df2cb2",
   "metadata": {},
   "outputs": [
    {
     "name": "stdout",
     "output_type": "stream",
     "text": [
      "['BMW', 'Mercedes', 'Opel', 'Mazda']\n",
      "<class 'list'>\n"
     ]
    }
   ],
   "source": [
    "#1- \"BMW, Mercedes, Opel, Mazda\" elemanlarına sahip bir liste oluşutrunuz.\n",
    "\n",
    "car = [\"BMW\", \"Mercedes\", \"Opel\", \"Mazda\"]\n",
    "print (car)\n",
    "print (type (car))"
   ]
  },
  {
   "cell_type": "code",
   "execution_count": 4,
   "id": "d525051f-4be3-4498-bf04-1ea79533a001",
   "metadata": {},
   "outputs": [
    {
     "name": "stdout",
     "output_type": "stream",
     "text": [
      "4\n"
     ]
    }
   ],
   "source": [
    "#2- Liste kaç elemanlıdır?\n",
    "\n",
    "print (len(car))"
   ]
  },
  {
   "cell_type": "code",
   "execution_count": 6,
   "id": "1f4ab910-af63-4489-a3e5-f9ae5b5b6bd3",
   "metadata": {},
   "outputs": [
    {
     "name": "stdout",
     "output_type": "stream",
     "text": [
      "BMW\n",
      "Mazda\n"
     ]
    }
   ],
   "source": [
    "#3- Listenin ilk ve son elemanı nedir?\n",
    "\n",
    "print (car[0])\n",
    "print (car [3])\n"
   ]
  },
  {
   "cell_type": "code",
   "execution_count": 8,
   "id": "634b1c58-d1a4-4038-9b5a-60fb20ee6757",
   "metadata": {},
   "outputs": [
    {
     "name": "stdout",
     "output_type": "stream",
     "text": [
      "['BMW', 'Mercedes', 'Opel', 'Toyota']\n"
     ]
    }
   ],
   "source": [
    "#4- Mazda değerini Toyota ile değiştirin.\n",
    "\n",
    "car [-1] = 'Toyota'\n",
    "print (car)"
   ]
  },
  {
   "cell_type": "code",
   "execution_count": 10,
   "id": "9c2a2b8e-5638-4adc-a53d-c8f90f5a91ce",
   "metadata": {},
   "outputs": [
    {
     "name": "stdout",
     "output_type": "stream",
     "text": [
      "True\n"
     ]
    }
   ],
   "source": [
    "#5- Mercedes listenin bir elemanı mıdır?\n",
    "\n",
    "result = 'Mercedes' in car\n",
    "print (result)"
   ]
  },
  {
   "cell_type": "code",
   "execution_count": 12,
   "id": "52ec38fe-aa95-4baa-bdfa-755a81d4158e",
   "metadata": {},
   "outputs": [
    {
     "name": "stdout",
     "output_type": "stream",
     "text": [
      "Opel\n"
     ]
    }
   ],
   "source": [
    "#6- Listenin -2 indeksindeki değer nedir?\n",
    "\n",
    "result1 = car [-2]\n",
    "print (result1)\n"
   ]
  },
  {
   "cell_type": "code",
   "execution_count": 16,
   "id": "acf8a94b-8d2a-45aa-b504-cd2af19ce3f1",
   "metadata": {},
   "outputs": [
    {
     "name": "stdout",
     "output_type": "stream",
     "text": [
      "BMW Mercedes Opel\n",
      "['BMW', 'Mercedes', 'Opel']\n"
     ]
    }
   ],
   "source": [
    "#7- Listenin ilk 3 elemanını alınız.\n",
    "\n",
    "result2 = car[0] + ' ' + car[1] + ' ' + car[2]\n",
    "print (result2)\n",
    "\n",
    "result3 = car [0:3]\n",
    "print (result3)"
   ]
  },
  {
   "cell_type": "code",
   "execution_count": 18,
   "id": "04e2a82d-cb80-4e65-8702-a4473806b415",
   "metadata": {},
   "outputs": [
    {
     "name": "stdout",
     "output_type": "stream",
     "text": [
      "['BMW', 'Mercedes', 'Toyota', 'Renault']\n",
      "['BMW', 'Mercedes', 'Toyota', 'Renault']\n"
     ]
    }
   ],
   "source": [
    "#8- Listenin son 2 elemanı yerine \"Toyota\" ve \"Renault\" değerini girin.\n",
    "\n",
    "car[3] = 'Renault'\n",
    "car[2] = 'Toyota'\n",
    "print (car)\n",
    "\n",
    "car [-2:] = ['Toyota' , 'Renault']\n",
    "print (car)\n"
   ]
  },
  {
   "cell_type": "code",
   "execution_count": 20,
   "id": "5cbe9828-da19-43c0-b69a-e1fb124fd8a2",
   "metadata": {},
   "outputs": [
    {
     "name": "stdout",
     "output_type": "stream",
     "text": [
      "['BMW', 'Mercedes', 'Toyota', 'Renault', 'Audi', 'Nissan']\n"
     ]
    }
   ],
   "source": [
    "#9- Listenin üzerine \"Audi\" ve \"Nissan\" değerlerini ekleyin.\n",
    "\n",
    "result4 = car + ['Audi'] + ['Nissan']\n",
    "print (result4)"
   ]
  },
  {
   "cell_type": "code",
   "execution_count": 22,
   "id": "55c11c72-573e-43d7-ad8a-78e9475264ee",
   "metadata": {},
   "outputs": [
    {
     "name": "stdout",
     "output_type": "stream",
     "text": [
      "['BMW', 'Mercedes', 'Toyota', 'Renault', 'Audi']\n"
     ]
    }
   ],
   "source": [
    "#10- Listenin son elemanını siliniz.\n",
    "\n",
    "result4 = car + ['Audi'] + ['Nissan']\n",
    "print (result4 [0:5])"
   ]
  },
  {
   "cell_type": "code",
   "execution_count": 24,
   "id": "636fda95-9fc3-4ffb-8a2e-e84e05b3312f",
   "metadata": {},
   "outputs": [
    {
     "name": "stdout",
     "output_type": "stream",
     "text": [
      "['Nissan', 'Audi', 'Renault', 'Toyota', 'Mercedes', 'BMW']\n"
     ]
    }
   ],
   "source": [
    "#11- Liste elemanlarını tersten yazdırınız.\n",
    "\n",
    "print (result4[::-1])"
   ]
  },
  {
   "cell_type": "code",
   "execution_count": 26,
   "id": "bb83fca5-de69-456e-9577-07609ac682aa",
   "metadata": {},
   "outputs": [
    {
     "name": "stdout",
     "output_type": "stream",
     "text": [
      "['Yiğit', 'Bilgi', 2010, (70, 60, 70)]\n",
      "['Sena', 'Turan', 1999, (80, 80, 70)]\n",
      "['Ahmet', 'Turan', 1998, (80, 70, 90)]\n",
      "[['Yiğit', 'Bilgi', 2010, (70, 60, 70)], ['Sena', 'Turan', 1999, (80, 80, 70)], ['Ahmet', 'Turan', 1998, (80, 70, 90)]]\n"
     ]
    }
   ],
   "source": [
    "#12-  Aşağıdaki verileri bir liste içinde saklayınız.\n",
    "\n",
    "        # studentA: Yiğit Bilgi 2010, (70,60,70)\n",
    "        # studentB: Sena Turan 1999, (80,80,70)\n",
    "        # studentC: Ahmet Turan 1998, (80,70,90)\n",
    "\n",
    "studentA = ['Yiğit', 'Bilgi', 2010, (70,60,70)]\n",
    "print (studentA)\n",
    "\n",
    "studentB = ['Sena', 'Turan', 1999, (80,80,70)]\n",
    "print (studentB)\n",
    "\n",
    "studentC = ['Ahmet', 'Turan', 1998, (80,70,90)]\n",
    "print (studentC)\n",
    "\n",
    "students = [studentA] + [studentB] + [studentC]\n",
    "print (students)"
   ]
  },
  {
   "cell_type": "code",
   "execution_count": 28,
   "id": "200e1d49-a8d0-48ef-b92e-5324c845684e",
   "metadata": {},
   "outputs": [
    {
     "name": "stdout",
     "output_type": "stream",
     "text": [
      "Yiğit\n",
      "Bilgi\n",
      "2010\n",
      "(70, 60, 70)\n"
     ]
    }
   ],
   "source": [
    "#13-  Liste elemanlarını ekrana yazdırınız.\n",
    "\n",
    "name = studentA [0]\n",
    "surname = studentA [1]\n",
    "dogumyılı = studentA [2]\n",
    "puanı = studentA [3]\n",
    "\n",
    "print (name)\n",
    "print (surname)\n",
    "print (dogumyılı)\n",
    "print (puanı)\n"
   ]
  },
  {
   "cell_type": "code",
   "execution_count": null,
   "id": "0bdce011-5a64-4c45-8728-eef8d594f7a2",
   "metadata": {},
   "outputs": [],
   "source": []
  }
 ],
 "metadata": {
  "kernelspec": {
   "display_name": "Python 3 (ipykernel)",
   "language": "python",
   "name": "python3"
  },
  "language_info": {
   "codemirror_mode": {
    "name": "ipython",
    "version": 3
   },
   "file_extension": ".py",
   "mimetype": "text/x-python",
   "name": "python",
   "nbconvert_exporter": "python",
   "pygments_lexer": "ipython3",
   "version": "3.10.14"
  }
 },
 "nbformat": 4,
 "nbformat_minor": 5
}
