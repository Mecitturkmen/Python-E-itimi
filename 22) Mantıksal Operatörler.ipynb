{
 "cells": [
  {
   "cell_type": "markdown",
   "id": "8902ad78-6507-47b9-bc08-7f7493d14838",
   "metadata": {},
   "source": [
    "## Mantıksal Operatörler"
   ]
  },
  {
   "cell_type": "code",
   "execution_count": 8,
   "id": "945c67f3-e90c-43b7-8028-f0e75a915567",
   "metadata": {},
   "outputs": [],
   "source": [
    "x = 6\n",
    "hak = 0\n",
    "devam = 'e'"
   ]
  },
  {
   "cell_type": "code",
   "execution_count": 10,
   "id": "56c5ef7d-a809-4d9c-86d9-8c51908c8cd9",
   "metadata": {},
   "outputs": [
    {
     "name": "stdout",
     "output_type": "stream",
     "text": [
      "True\n"
     ]
    }
   ],
   "source": [
    "result = 5 < x < 10\n",
    "print(result) #Bu şekilde yaptığımızda x değerinin 5 ve10 arasında olduğunu belirtir."
   ]
  },
  {
   "cell_type": "code",
   "execution_count": 6,
   "id": "694a649f-a9ab-4668-ae28-2ddefb4b8bce",
   "metadata": {},
   "outputs": [],
   "source": [
    "# and operatörü (& bu işareti yapmak için shift + 6 tuşuna basılır)"
   ]
  },
  {
   "cell_type": "code",
   "execution_count": 18,
   "id": "1d07fa08-e01f-4969-a446-9bdad7b21998",
   "metadata": {},
   "outputs": [
    {
     "name": "stdout",
     "output_type": "stream",
     "text": [
      "True\n",
      "False\n"
     ]
    }
   ],
   "source": [
    "result = (x > 5) and (x < 10) # Her iki şartında sağlanması gerekir.\n",
    "print(result)\n",
    "result = (hak > 0) and (devam == 'e') \n",
    "print(result)"
   ]
  },
  {
   "cell_type": "code",
   "execution_count": 14,
   "id": "1db4138b-4efc-4084-b61c-4e7779cd9e3f",
   "metadata": {},
   "outputs": [],
   "source": [
    "# or operatörü (| bu işareti yapmak için ALT GR + < işaretine basılır.)"
   ]
  },
  {
   "cell_type": "code",
   "execution_count": 20,
   "id": "9bc82092-715c-4599-93ef-51af03a6631d",
   "metadata": {},
   "outputs": [
    {
     "name": "stdout",
     "output_type": "stream",
     "text": [
      "True\n"
     ]
    }
   ],
   "source": [
    "result = (x > 0) or (x % 2 == 0) # Şartlardan bir tanesi sağlanırsa yeterlidir.\n",
    "print(result)"
   ]
  },
  {
   "cell_type": "code",
   "execution_count": 22,
   "id": "c49211a7-6d26-4544-9916-ace570ee3e00",
   "metadata": {},
   "outputs": [],
   "source": [
    "# not operatörü"
   ]
  },
  {
   "cell_type": "code",
   "execution_count": 24,
   "id": "1de2b0df-ade7-404e-8e09-53af0cd2fc4f",
   "metadata": {},
   "outputs": [
    {
     "name": "stdout",
     "output_type": "stream",
     "text": [
      "False\n"
     ]
    }
   ],
   "source": [
    "result = not(x > 0)\n",
    "print (result)"
   ]
  },
  {
   "cell_type": "code",
   "execution_count": 26,
   "id": "fa865fab-5c24-484b-b70e-c8b404312cfd",
   "metadata": {},
   "outputs": [
    {
     "name": "stdout",
     "output_type": "stream",
     "text": [
      "True\n"
     ]
    }
   ],
   "source": [
    "# x, 5-10 arasında olan bir çift sayı mı?\n",
    "\n",
    "result = (x > 5) and (x < 10) and ( x % 2 == 0)\n",
    "print (result)"
   ]
  },
  {
   "cell_type": "code",
   "execution_count": null,
   "id": "f07ba5cb-803e-4671-b8cf-aadc28bc4b5f",
   "metadata": {},
   "outputs": [],
   "source": []
  }
 ],
 "metadata": {
  "kernelspec": {
   "display_name": "Python 3 (ipykernel)",
   "language": "python",
   "name": "python3"
  },
  "language_info": {
   "codemirror_mode": {
    "name": "ipython",
    "version": 3
   },
   "file_extension": ".py",
   "mimetype": "text/x-python",
   "name": "python",
   "nbconvert_exporter": "python",
   "pygments_lexer": "ipython3",
   "version": "3.10.14"
  }
 },
 "nbformat": 4,
 "nbformat_minor": 5
}
