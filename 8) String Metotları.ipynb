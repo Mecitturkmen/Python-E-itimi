{
 "cells": [
  {
   "cell_type": "markdown",
   "id": "48e66ce2-aa81-4a2b-ae17-a51572c44594",
   "metadata": {},
   "source": [
    "## STRİNG METOTLARI"
   ]
  },
  {
   "cell_type": "code",
   "execution_count": 2,
   "id": "ae214b71-c199-4d31-b1a5-a4a370d0741e",
   "metadata": {},
   "outputs": [],
   "source": [
    "message = 'Hello There. My name is Mecit Türkmen'"
   ]
  },
  {
   "cell_type": "code",
   "execution_count": 4,
   "id": "90f428ba-d3e2-4215-be86-5b0d30b7a4ab",
   "metadata": {},
   "outputs": [
    {
     "name": "stdout",
     "output_type": "stream",
     "text": [
      "HELLO THERE. MY NAME IS MECIT TÜRKMEN\n"
     ]
    }
   ],
   "source": [
    "message = message.upper() #message değişkeni içerisindeki her harfi büyük harf yapar.\n",
    "print (message)"
   ]
  },
  {
   "cell_type": "code",
   "execution_count": 6,
   "id": "b8b654da-aab8-46fa-8a18-4d2e49a9c42f",
   "metadata": {},
   "outputs": [
    {
     "name": "stdout",
     "output_type": "stream",
     "text": [
      "hello there. my name is mecit türkmen\n"
     ]
    }
   ],
   "source": [
    "message = message.lower() #message değişkeni içerisideki her harfi küçük harf yapar.\n",
    "print (message)"
   ]
  },
  {
   "cell_type": "code",
   "execution_count": 8,
   "id": "bd4d8c2b-283e-41ae-914f-273646b80a64",
   "metadata": {},
   "outputs": [
    {
     "name": "stdout",
     "output_type": "stream",
     "text": [
      "Hello There. My Name Is Mecit Türkmen\n"
     ]
    }
   ],
   "source": [
    "message = message.title() #message değişkeni içerisindeki her kelimenin ilk harfini büyük harf yapar.\n",
    "print (message)"
   ]
  },
  {
   "cell_type": "code",
   "execution_count": 10,
   "id": "4921d64d-6340-4051-8ff7-28f054caab6e",
   "metadata": {},
   "outputs": [
    {
     "name": "stdout",
     "output_type": "stream",
     "text": [
      "Hello there. my name is mecit türkmen\n"
     ]
    }
   ],
   "source": [
    "message = message.capitalize() #message değişkeni içerisinde sadece ilk kelimenin ilk harfini büyük harf geri kalanını küçük harf yapar.\n",
    "print (message)"
   ]
  },
  {
   "cell_type": "code",
   "execution_count": 12,
   "id": "a08429be-a827-49cb-abf7-3d413bf444d5",
   "metadata": {},
   "outputs": [
    {
     "name": "stdout",
     "output_type": "stream",
     "text": [
      "Hello There. My name is Mecit Türkmen\n"
     ]
    }
   ],
   "source": [
    "message1 = ' Hello There. My name is Mecit Türkmen'\n",
    "message1 = message1.strip() #message1 değişkeni içerisindeki ifadenin başında veya sonunda eğer boşluk karakteri varsa bunu siler.\n",
    "print (message1)"
   ]
  },
  {
   "cell_type": "code",
   "execution_count": 14,
   "id": "926c51df-2810-4ba5-ba34-3b50c5f6d0bb",
   "metadata": {},
   "outputs": [
    {
     "name": "stdout",
     "output_type": "stream",
     "text": [
      "['Hello', 'there.', 'my', 'name', 'is', 'mecit', 'türkmen']\n"
     ]
    }
   ],
   "source": [
    "message = message.split() #message değişkeni içersindeki cümleyi liste tipine çevirmek için kullanılır.\n",
    "print (message)"
   ]
  },
  {
   "cell_type": "code",
   "execution_count": 20,
   "id": "449ca255-6c60-4958-a303-af0a360f507c",
   "metadata": {},
   "outputs": [
    {
     "name": "stdout",
     "output_type": "stream",
     "text": [
      "H e l l o   t h e r e .   m y   n a m e   i s   m e c i t   t ü r k m e n\n"
     ]
    }
   ],
   "source": [
    "message = ' '.join(message) #split ile ayrılmış bir ifadeyi join ile birleştirebiliriz. \n",
    "#Boşluk konulma sebebi birleştirilen ifade arasında boşluk olsun diye.\n",
    "print (message)"
   ]
  },
  {
   "cell_type": "code",
   "execution_count": 26,
   "id": "b55b6cd3-5be0-4cd3-a4f0-d646ce20772b",
   "metadata": {},
   "outputs": [
    {
     "name": "stdout",
     "output_type": "stream",
     "text": [
      "-1\n"
     ]
    }
   ],
   "source": [
    "index = message.find('mecit') #Bir cümle içerisinde bulmak istenilen kelimenin ilk harfinin index numarasını verir.\n",
    "#(-1) değeri gelirse bu kelimenin olmadığı anlamına gelir.\n",
    "print (index)"
   ]
  },
  {
   "cell_type": "code",
   "execution_count": 28,
   "id": "8309395b-48d3-47bb-a896-85f687fc7d16",
   "metadata": {},
   "outputs": [
    {
     "name": "stdout",
     "output_type": "stream",
     "text": [
      "True\n"
     ]
    }
   ],
   "source": [
    "isFound = message.startswith ('H') #Cümle 'H' ile başlayıp başlamadığının sorgusudur.\n",
    "print (isFound)"
   ]
  },
  {
   "cell_type": "code",
   "execution_count": 30,
   "id": "4fb12e66-2ea1-4778-903b-109a25eb7f23",
   "metadata": {},
   "outputs": [
    {
     "name": "stdout",
     "output_type": "stream",
     "text": [
      "True\n"
     ]
    }
   ],
   "source": [
    "isFound = message.endswith ('n') #Cümle 'n' ile bitip bitmediğinin sorgusudur.\n",
    "print (isFound)"
   ]
  },
  {
   "cell_type": "code",
   "execution_count": 32,
   "id": "4f9acf47-7a78-4b6b-9380-a58c52c84a60",
   "metadata": {},
   "outputs": [
    {
     "name": "stdout",
     "output_type": "stream",
     "text": [
      "H e l l o   t h e r e .   m y   n a m e   i s   m e c i t   t ü r k m e n\n"
     ]
    }
   ],
   "source": [
    "message = message.replace('mecit','Mecit') #replace komutu cümle içerisinde yer alan 'mecit' kelimesini arar sonra yazılması \n",
    "#istenilen 'Mecit' kelimesini yazar.\n",
    "print (message)"
   ]
  },
  {
   "cell_type": "code",
   "execution_count": 34,
   "id": "5f69b5c1-64d4-4585-8211-a9e50206fc76",
   "metadata": {},
   "outputs": [
    {
     "name": "stdout",
     "output_type": "stream",
     "text": [
      "H e l l o   t h e r e .   m y   n a m e   i s   m e c i t   t ü r k m e n\n"
     ]
    }
   ],
   "source": [
    "message = message.center(50,'*') #message değişkenin 100 karakterli olmasını ister. \n",
    "#center 100 karakter olması için ifadenin başında ve sonunda eşit şekilde boşluk bırakır. \n",
    "#virgül ile ayırıp boşluk kısmına istenilen ifadede yazılabilir.\n",
    "print(message)"
   ]
  },
  {
   "cell_type": "code",
   "execution_count": 36,
   "id": "8fce3140-74bd-4a8f-ade6-347cc901a053",
   "metadata": {},
   "outputs": [
    {
     "name": "stdout",
     "output_type": "stream",
     "text": [
      "1\n"
     ]
    }
   ],
   "source": [
    "message = message.count ('a') #message değişkeni içerisinde kaç tane a olduğunu gösterir.\n",
    "print (message)"
   ]
  },
  {
   "cell_type": "code",
   "execution_count": null,
   "id": "c38c3211-daf5-42f4-8d63-4422737414a5",
   "metadata": {},
   "outputs": [],
   "source": []
  }
 ],
 "metadata": {
  "kernelspec": {
   "display_name": "Python 3 (ipykernel)",
   "language": "python",
   "name": "python3"
  },
  "language_info": {
   "codemirror_mode": {
    "name": "ipython",
    "version": 3
   },
   "file_extension": ".py",
   "mimetype": "text/x-python",
   "name": "python",
   "nbconvert_exporter": "python",
   "pygments_lexer": "ipython3",
   "version": "3.10.14"
  }
 },
 "nbformat": 4,
 "nbformat_minor": 5
}
