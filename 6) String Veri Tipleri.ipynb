{
 "cells": [
  {
   "cell_type": "markdown",
   "id": "7a0ba85d-d6fa-4ee4-a46a-0207edbdfda2",
   "metadata": {},
   "source": [
    "## STRİNG VERİ TİPLERİ"
   ]
  },
  {
   "cell_type": "code",
   "execution_count": 2,
   "id": "2b3ac2b4-3e7b-46a4-b678-bfefdf854b9b",
   "metadata": {},
   "outputs": [
    {
     "name": "stdout",
     "output_type": "stream",
     "text": [
      "My name is Mecit Türkmen\n"
     ]
    }
   ],
   "source": [
    "name = 'Mecit'\n",
    "surname = 'Türkmen'\n",
    "age = 25\n",
    "print ('My name is '+ name +' '+ surname)"
   ]
  },
  {
   "cell_type": "code",
   "execution_count": 4,
   "id": "d3af15ad-cf70-4867-84b6-fae4ff601186",
   "metadata": {},
   "outputs": [],
   "source": [
    "greeting ='My name is '+ name +' '+ surname + ' and \\nI am '+ str(age) + ' years old.' #\\n ile alt satıra geçirilir # age ifadesi str tipine dönüştürlmez ise hata verecektri str ile str toplanır."
   ]
  },
  {
   "cell_type": "code",
   "execution_count": 6,
   "id": "4fbef88a-319e-42e7-868c-3ee624709b87",
   "metadata": {},
   "outputs": [
    {
     "name": "stdout",
     "output_type": "stream",
     "text": [
      "M\n",
      "n\n",
      "48\n"
     ]
    }
   ],
   "source": [
    "print (greeting [0])\n",
    "print (greeting [3])\n",
    "\n",
    "print (len (greeting)) #Bir ifadenin uznluğu için len komutu kullanılır."
   ]
  },
  {
   "cell_type": "code",
   "execution_count": 8,
   "id": "a18d0b73-06cd-4bc4-9808-a497bb64b739",
   "metadata": {},
   "outputs": [
    {
     "name": "stdout",
     "output_type": "stream",
     "text": [
      ".\n",
      "name\n",
      " aei ei üke n Ia 5y\n"
     ]
    }
   ],
   "source": [
    "print (greeting [47])\n",
    "print (greeting [3:7]) #3ten başla7 ye kadar git 7 dahil değil\n",
    "print (greeting [2:40:2]) #2den başla 40 dahil değil 2 karakterde bir al"
   ]
  },
  {
   "cell_type": "code",
   "execution_count": 10,
   "id": "3178846c-faa2-4ce9-8c75-5bf8157f4f73",
   "metadata": {},
   "outputs": [
    {
     "name": "stdout",
     "output_type": "stream",
     "text": [
      "Benim adım mecit, soyadım türkmen\n",
      "Benim adım  türkmen, soyadımmecit\n"
     ]
    }
   ],
   "source": [
    "print('Benim adım {}, soyadım{}'.format('mecit',' türkmen')) #Format değişkeni ile değişken atama yapılır.\n",
    "print('Benim adım {1}, soyadım{0}'.format('mecit',' türkmen'))"
   ]
  },
  {
   "cell_type": "code",
   "execution_count": 12,
   "id": "346b4aa2-f2fc-45f1-aa55-0145d4295078",
   "metadata": {},
   "outputs": [
    {
     "name": "stdout",
     "output_type": "stream",
     "text": [
      "the result is 0.2857142857142857\n",
      "the result is 0.286\n",
      "the result is      0.286\n"
     ]
    }
   ],
   "source": [
    "result = 200/700\n",
    "print ('the result is {}'.format ( result))\n",
    "print ('the result is {r:1.3}'.format (r=result)) #virgülden sonra 3 basamak\n",
    "print ('the result is {r:10.3}'.format (r=result)) #virgülden önce 10 karakterlik olacak"
   ]
  },
  {
   "cell_type": "code",
   "execution_count": null,
   "id": "4ccd6d34-f593-4150-b05c-e2428a6bc069",
   "metadata": {},
   "outputs": [],
   "source": [
    "name = 'mecit'\n",
    "surname = ' türkmen'\n",
    "print(f\"Benim adım {name}, soyadım {surname}\") #tırnak başına f ekleyerekde format fonksiyonu aktif olmaktadır."
   ]
  }
 ],
 "metadata": {
  "kernelspec": {
   "display_name": "Python 3 (ipykernel)",
   "language": "python",
   "name": "python3"
  },
  "language_info": {
   "codemirror_mode": {
    "name": "ipython",
    "version": 3
   },
   "file_extension": ".py",
   "mimetype": "text/x-python",
   "name": "python",
   "nbconvert_exporter": "python",
   "pygments_lexer": "ipython3",
   "version": "3.10.14"
  }
 },
 "nbformat": 4,
 "nbformat_minor": 5
}
