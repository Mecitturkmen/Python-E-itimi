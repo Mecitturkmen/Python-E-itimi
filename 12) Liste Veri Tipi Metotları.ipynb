{
 "cells": [
  {
   "cell_type": "markdown",
   "id": "d9672333-cde2-4e92-a1bc-8a220a2bc9c3",
   "metadata": {},
   "source": [
    "## Liste Veri Tipi Metotları"
   ]
  },
  {
   "cell_type": "code",
   "execution_count": 2,
   "id": "08c72c9e-e8ba-48d2-bcc4-3b4a7a61ade6",
   "metadata": {},
   "outputs": [],
   "source": [
    "numbers = [1, 10, 5, 16, 4, 9 ,10]\n",
    "letters = ['a', 'g', 's', 'b', 'y', 'a', 's']"
   ]
  },
  {
   "cell_type": "code",
   "execution_count": 4,
   "id": "057230a8-e503-4d0a-a6cc-636004ab20cf",
   "metadata": {},
   "outputs": [
    {
     "name": "stdout",
     "output_type": "stream",
     "text": [
      "1\n"
     ]
    }
   ],
   "source": [
    "val = min(numbers) #min komutu numbers içerisindeki en düşük sayıyı gösterir.\n",
    "print (val)"
   ]
  },
  {
   "cell_type": "code",
   "execution_count": 6,
   "id": "4d0f7822-4265-4148-aaba-7d191f0b446d",
   "metadata": {},
   "outputs": [
    {
     "name": "stdout",
     "output_type": "stream",
     "text": [
      "16\n"
     ]
    }
   ],
   "source": [
    "val2 = max(numbers) #max komutu numbers içerisindeki en büyük sayıyı gösterir.\n",
    "print (val2)"
   ]
  },
  {
   "cell_type": "code",
   "execution_count": 8,
   "id": "513469db-179f-4aca-bff4-fae512308058",
   "metadata": {},
   "outputs": [
    {
     "name": "stdout",
     "output_type": "stream",
     "text": [
      "a\n"
     ]
    }
   ],
   "source": [
    "val3 = min(letters) #alfabetik sıraya göre ilk harf\n",
    "print (val3)"
   ]
  },
  {
   "cell_type": "code",
   "execution_count": 10,
   "id": "49b6bf94-7a78-4735-8373-e65929b72504",
   "metadata": {},
   "outputs": [
    {
     "name": "stdout",
     "output_type": "stream",
     "text": [
      "y\n"
     ]
    }
   ],
   "source": [
    "val4 = max (letters) #alfabetik sıraya göre son harf\n",
    "print (val4)"
   ]
  },
  {
   "cell_type": "code",
   "execution_count": 12,
   "id": "57c72002-7e65-4f3d-9607-89a07403fecc",
   "metadata": {},
   "outputs": [
    {
     "name": "stdout",
     "output_type": "stream",
     "text": [
      "[16, 4, 9]\n"
     ]
    }
   ],
   "source": [
    "val5 = numbers [3:6] #string metodunda olduğu gibi kısıtlamalar yapılabilir.\n",
    "print (val5)"
   ]
  },
  {
   "cell_type": "code",
   "execution_count": 14,
   "id": "0554ddec-dcac-4d4a-9119-e630f14a6fc0",
   "metadata": {},
   "outputs": [
    {
     "name": "stdout",
     "output_type": "stream",
     "text": [
      "['y', 'a', 's']\n"
     ]
    }
   ],
   "source": [
    "val6 = letters [4:]\n",
    "print (val6)"
   ]
  },
  {
   "cell_type": "code",
   "execution_count": 16,
   "id": "6f5cf37a-1d64-4703-91da-1e2744c1a2a2",
   "metadata": {},
   "outputs": [
    {
     "name": "stdout",
     "output_type": "stream",
     "text": [
      "[1, 10, 5, 16, 40, 9, 10]\n"
     ]
    }
   ],
   "source": [
    "numbers [4] = 40 #Belirtilen indexdeki elemanı değiştirmek için kullanılır.\n",
    "print (numbers)"
   ]
  },
  {
   "cell_type": "code",
   "execution_count": 18,
   "id": "434ee307-4a76-4354-9891-286e06d459b6",
   "metadata": {},
   "outputs": [
    {
     "name": "stdout",
     "output_type": "stream",
     "text": [
      "[1, 10, 5, 16, 40, 9, 10, 59]\n"
     ]
    }
   ],
   "source": [
    "numbers.append(59) #append komutu parantez içersine yazılan ifadeyi listenin sonuna eklenir.\n",
    "print (numbers)"
   ]
  },
  {
   "cell_type": "code",
   "execution_count": 20,
   "id": "45825a18-14a3-4629-8692-cec7cec830a7",
   "metadata": {},
   "outputs": [
    {
     "name": "stdout",
     "output_type": "stream",
     "text": [
      "[1, 10, 5, 78, 16, 40, 9, 10, 59]\n"
     ]
    }
   ],
   "source": [
    "numbers.insert(3,78) #insert komutu ile istenilen indexe istenilen sayı atanır. O indexteki elemanı silmez!!!\n",
    "print (numbers)"
   ]
  },
  {
   "cell_type": "code",
   "execution_count": 22,
   "id": "d3bf4bd6-cbef-44ac-b106-1ebc42e2640d",
   "metadata": {},
   "outputs": [
    {
     "name": "stdout",
     "output_type": "stream",
     "text": [
      "[1, 10, 5, 78, 16, 40, 9, 10, 52, 59]\n"
     ]
    }
   ],
   "source": [
    "numbers.insert (-1,52) #en son index numarasından önce elemanı ekler.\n",
    "print (numbers)"
   ]
  },
  {
   "cell_type": "code",
   "execution_count": 24,
   "id": "76c3bb10-9113-4142-825c-462f0d9d743f",
   "metadata": {},
   "outputs": [
    {
     "name": "stdout",
     "output_type": "stream",
     "text": [
      "[1, 10, 5, 78, 16, 40, 9, 10, 52]\n"
     ]
    }
   ],
   "source": [
    "numbers.pop() #İçi boş ise son elemanı siler. Parantez içerisine index numarası yazarsak o indexteki elemanı siler.\n",
    "print(numbers)"
   ]
  },
  {
   "cell_type": "code",
   "execution_count": 26,
   "id": "e5c239fa-96d7-4540-950a-d35780a37a8e",
   "metadata": {},
   "outputs": [
    {
     "name": "stdout",
     "output_type": "stream",
     "text": [
      "[1, 10, 5, 78, 16, 40, 9, 10]\n"
     ]
    }
   ],
   "source": [
    "numbers.remove (52) #Belirtilen elemanı siler.\n",
    "print (numbers)"
   ]
  },
  {
   "cell_type": "code",
   "execution_count": 28,
   "id": "ddf5b77b-dc07-4620-a28c-cc1b724a626f",
   "metadata": {},
   "outputs": [
    {
     "name": "stdout",
     "output_type": "stream",
     "text": [
      "[1, 5, 9, 10, 10, 16, 40, 78]\n"
     ]
    }
   ],
   "source": [
    "numbers.sort () #sayısal olarak sıralar\n",
    "print (numbers)"
   ]
  },
  {
   "cell_type": "code",
   "execution_count": 30,
   "id": "065a4ebb-c8af-4eb7-a679-d6e54b1f6767",
   "metadata": {},
   "outputs": [
    {
     "name": "stdout",
     "output_type": "stream",
     "text": [
      "['a', 'a', 'b', 'g', 's', 's', 'y']\n"
     ]
    }
   ],
   "source": [
    "letters.sort () #alfabetik olarak sıralam yapar.\n",
    "print (letters)"
   ]
  },
  {
   "cell_type": "code",
   "execution_count": 32,
   "id": "4a9f2114-1693-4799-8faa-2c435653fa4c",
   "metadata": {},
   "outputs": [
    {
     "name": "stdout",
     "output_type": "stream",
     "text": [
      "[78, 40, 16, 10, 10, 9, 5, 1]\n"
     ]
    }
   ],
   "source": [
    "numbers.reverse () #büyükten küçüğe sıralar.\n",
    "print (numbers)"
   ]
  },
  {
   "cell_type": "code",
   "execution_count": 34,
   "id": "78d5b1f5-5a69-4bb0-96f7-e0f995335e11",
   "metadata": {},
   "outputs": [
    {
     "name": "stdout",
     "output_type": "stream",
     "text": [
      "['y', 's', 's', 'g', 'b', 'a', 'a']\n"
     ]
    }
   ],
   "source": [
    "letters.reverse () #alfabetik olarak zden a ya sıralar.\n",
    "print (letters)"
   ]
  },
  {
   "cell_type": "code",
   "execution_count": 36,
   "id": "7eb163fd-d4da-4fc2-8d2b-ae0cbf8efe76",
   "metadata": {},
   "outputs": [
    {
     "name": "stdout",
     "output_type": "stream",
     "text": [
      "8\n",
      "7\n"
     ]
    }
   ],
   "source": [
    "print (len(numbers))  #liste içindeki eleman sayısını verir\n",
    "print (len(letters))"
   ]
  },
  {
   "cell_type": "code",
   "execution_count": 38,
   "id": "5a34cbfb-03e5-4ec8-9af4-92684d0d272c",
   "metadata": {},
   "outputs": [
    {
     "name": "stdout",
     "output_type": "stream",
     "text": [
      "2\n",
      "2\n"
     ]
    }
   ],
   "source": [
    "print (numbers.count(10)) #liste içinde o elemandan kaç adet olduğun gösterir.\n",
    "print (letters.count('a'))"
   ]
  },
  {
   "cell_type": "code",
   "execution_count": 40,
   "id": "ee6601be-060f-4077-9b3f-c4ea8ad3c59d",
   "metadata": {},
   "outputs": [
    {
     "name": "stdout",
     "output_type": "stream",
     "text": [
      "[]\n"
     ]
    }
   ],
   "source": [
    "numbers.clear() #liste içindeki tüm elemanları siler.\n",
    "print (numbers)"
   ]
  },
  {
   "cell_type": "code",
   "execution_count": null,
   "id": "17835d4c-7eb1-4a25-b29b-ef89ea656dea",
   "metadata": {},
   "outputs": [],
   "source": []
  }
 ],
 "metadata": {
  "kernelspec": {
   "display_name": "Python 3 (ipykernel)",
   "language": "python",
   "name": "python3"
  },
  "language_info": {
   "codemirror_mode": {
    "name": "ipython",
    "version": 3
   },
   "file_extension": ".py",
   "mimetype": "text/x-python",
   "name": "python",
   "nbconvert_exporter": "python",
   "pygments_lexer": "ipython3",
   "version": "3.10.14"
  }
 },
 "nbformat": 4,
 "nbformat_minor": 5
}
