{
 "cells": [
  {
   "cell_type": "code",
   "execution_count": 1,
   "id": "4be1653a-01b4-4e0e-958e-6730abe156b3",
   "metadata": {},
   "outputs": [],
   "source": [
    "            # VERİ TİPLERİ\n",
    "\n",
    " ########################################################################################################################################\n",
    " ###    Tip     ###  Kisaltma  ###             Örnek           ###                     Açıklama                                       ###\n",
    " ### --------------------------------------------------------- ###--------------------------------------------------------------------###\n",
    " ###  Integer   ###    int     ###             3, 10           ###     Tam Sayı                                                       ###\n",
    " ###   Float    ###   float    ###            1.5, 7.0         ###     Ondalıklı Sayı                                                 ###\n",
    " ###   String   ###    str     ###           \"S3m\", '2'        ###     Yazı                                                           ###\n",
    " ###  Boolean   ###    bool    ###          True, False        ###     Mantıksal İşlemler                                             ###\n",
    " ###    List    ###    list    ###      [1,2,True, 'a', 1]     ###     Hem tekrar edebilen hemde farklı veri tiplerini içeren tiptir  ###\n",
    " ###    Set     ###    set     ###         {1,2,True, 'a'}     ###     List tipinden farkı tekrarlanamaz                              ###\n",
    " ### Dictionary ###    dict    ### {'isim': 'Mesut, 'yas': 32} ###     Anahtar ve buna karşılık gelen değerlerdir                     ###\n",
    " ###    Tuple   ###    tup     ###         (1, 2, True)        ###     List tipinden farkı parantez içerisine yazılanlar değişmez     ###\n",
    " ######################################################################################################################################## "
   ]
  },
  {
   "cell_type": "code",
   "execution_count": null,
   "id": "03ebd7ee-d5bc-4ed7-aa7b-b3f849d314b5",
   "metadata": {},
   "outputs": [],
   "source": []
  }
 ],
 "metadata": {
  "kernelspec": {
   "display_name": "Python 3 (ipykernel)",
   "language": "python",
   "name": "python3"
  },
  "language_info": {
   "codemirror_mode": {
    "name": "ipython",
    "version": 3
   },
   "file_extension": ".py",
   "mimetype": "text/x-python",
   "name": "python",
   "nbconvert_exporter": "python",
   "pygments_lexer": "ipython3",
   "version": "3.10.14"
  }
 },
 "nbformat": 4,
 "nbformat_minor": 5
}
