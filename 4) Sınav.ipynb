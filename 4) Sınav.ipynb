{
 "cells": [
  {
   "cell_type": "markdown",
   "id": "e5fafec1-94ea-411b-ada2-1bb388ff2c54",
   "metadata": {},
   "source": [
    "## QUİZ"
   ]
  },
  {
   "cell_type": "code",
   "execution_count": 8,
   "id": "5ec95534-e639-4161-b3ad-a0357508a9e2",
   "metadata": {},
   "outputs": [],
   "source": [
    "# 1- Bir müşterinin aşağıdaki bilgileri için değişken oluşturunuz.\n",
    "\n",
    "# Müşteri adı\n",
    "# Müşteri soyadı\n",
    "# Müşteri ad+soyad\n",
    "# Müşteri cinsiyet\n",
    "# Müşteri tc kimlik no\n",
    "# Müşteri doğum yılı\n",
    "# Müşteri adres bilgisi\n",
    "# Müşteri yaşı"
   ]
  },
  {
   "cell_type": "code",
   "execution_count": 10,
   "id": "c35c3935-388c-4cab-aa03-3f88de0cc4c9",
   "metadata": {},
   "outputs": [
    {
     "name": "stdout",
     "output_type": "stream",
     "text": [
      "Mecit\n",
      "Türkmen\n",
      "Mecit Türkmen\n",
      "Erkek\n",
      "11111111111\n",
      "1997\n",
      "ilkadım/Samsun\n",
      "26\n"
     ]
    }
   ],
   "source": [
    "musteriAdı = 'Mecit'\n",
    "musteriSoyadı = 'Türkmen'\n",
    "musteriAdSoyad = musteriAdı + ' ' + musteriSoyadı\n",
    "musteriCinsiyet = 'Erkek'\n",
    "musteriTc = 11111111111\n",
    "musteriDogum = 1997\n",
    "musteriAdres = 'ilkadım/Samsun'\n",
    "musteriAge = 26\n",
    "\n",
    "print (musteriAdı)\n",
    "print (musteriSoyadı)\n",
    "print (musteriAdSoyad)\n",
    "print (musteriCinsiyet)\n",
    "print (musteriTc)\n",
    "print (musteriDogum)\n",
    "print (musteriAdres)\n",
    "print (musteriAge)"
   ]
  },
  {
   "cell_type": "code",
   "execution_count": 12,
   "id": "fb604013-4319-4b48-962f-abc5673e2332",
   "metadata": {},
   "outputs": [],
   "source": [
    "# 2- Aşağıdaki siparişlerin toplam bilgisini hesaplayınız.\n",
    "\n",
    "#       Sipariş 1 => 110    TL\n",
    "#       Sipariş 2 => 1100.5 TL\n",
    "#       Sipariş 3 => 356.95 TL"
   ]
  },
  {
   "cell_type": "code",
   "execution_count": 14,
   "id": "05e34280-1aa6-4d51-8dc2-77cf9c981b59",
   "metadata": {},
   "outputs": [
    {
     "name": "stdout",
     "output_type": "stream",
     "text": [
      "1567.45\n",
      "1567.45\n"
     ]
    }
   ],
   "source": [
    "sıparıs1 = 110\n",
    "sıparıs2 = 1100.5\n",
    "sıparıs3 = 356.95\n",
    "toplam = sıparıs1 + sıparıs2 + sıparıs3\n",
    "print (toplam)\n",
    "print (sıparıs1 + sıparıs2 + sıparıs3)"
   ]
  },
  {
   "cell_type": "code",
   "execution_count": null,
   "id": "04aa5b0e-5fb9-4713-be5c-14ea4dbeafc2",
   "metadata": {},
   "outputs": [],
   "source": []
  }
 ],
 "metadata": {
  "kernelspec": {
   "display_name": "Python 3 (ipykernel)",
   "language": "python",
   "name": "python3"
  },
  "language_info": {
   "codemirror_mode": {
    "name": "ipython",
    "version": 3
   },
   "file_extension": ".py",
   "mimetype": "text/x-python",
   "name": "python",
   "nbconvert_exporter": "python",
   "pygments_lexer": "ipython3",
   "version": "3.10.14"
  }
 },
 "nbformat": 4,
 "nbformat_minor": 5
}
