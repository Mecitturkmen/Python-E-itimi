{
 "cells": [
  {
   "cell_type": "markdown",
   "id": "fb9b8187-8cde-4c2a-8e5f-3f683fd64d6e",
   "metadata": {},
   "source": [
    "## QUİZ"
   ]
  },
  {
   "cell_type": "code",
   "execution_count": 2,
   "id": "daeb1c94-6a8a-4099-a4e1-41c5918d415f",
   "metadata": {},
   "outputs": [],
   "source": [
    "names = ['Ali', 'Yağmur', 'Hakan', 'Deniz']\n",
    "years = [1998, 2000, 1998, 1987]"
   ]
  },
  {
   "cell_type": "code",
   "execution_count": 4,
   "id": "955a9dd6-e247-4b89-b64a-10073a83dd31",
   "metadata": {},
   "outputs": [
    {
     "name": "stdout",
     "output_type": "stream",
     "text": [
      "['Ali', 'Yağmur', 'Hakan', 'Deniz', 'Cenk']\n"
     ]
    }
   ],
   "source": [
    "# 1-    \"Cenk\" ismini listenin sonuna ekleyiniz.\n",
    "\n",
    "names = ['Ali', 'Yağmur', 'Hakan', 'Deniz']\n",
    "names.append ('Cenk')\n",
    "print (names)\n"
   ]
  },
  {
   "cell_type": "code",
   "execution_count": 6,
   "id": "3911233e-641f-4cee-b35e-a06f217cf2bf",
   "metadata": {},
   "outputs": [
    {
     "name": "stdout",
     "output_type": "stream",
     "text": [
      "['Sena', 'Ali', 'Yağmur', 'Hakan', 'Deniz', 'Cenk']\n"
     ]
    }
   ],
   "source": [
    "# 2-    \"Sena\" değerini listenin başına ekleyiniz.\n",
    "\n",
    "names.insert (0, 'Sena')\n",
    "print (names)\n"
   ]
  },
  {
   "cell_type": "code",
   "execution_count": 8,
   "id": "d7e7c80f-eab2-4823-a3dd-4053670fdada",
   "metadata": {},
   "outputs": [
    {
     "name": "stdout",
     "output_type": "stream",
     "text": [
      "['Sena', 'Ali', 'Yağmur', 'Deniz', 'Cenk']\n"
     ]
    }
   ],
   "source": [
    "# 3-    \"Deniz\" değerini listeden siliniz.\n",
    "\n",
    "names.pop (3)\n",
    "print (names)"
   ]
  },
  {
   "cell_type": "code",
   "execution_count": 10,
   "id": "53b13689-b37f-49e2-8061-37361609cd0b",
   "metadata": {},
   "outputs": [
    {
     "name": "stdout",
     "output_type": "stream",
     "text": [
      "3\n"
     ]
    }
   ],
   "source": [
    "# 4-    \"Deniz\" değerinin indexi nedir?\n",
    "\n",
    "names = ['Ali', 'Yağmur', 'Hakan', 'Deniz']\n",
    "print (names.index ('Deniz'))"
   ]
  },
  {
   "cell_type": "code",
   "execution_count": 16,
   "id": "e6167d03-7d6d-432a-b2b2-6fc9e8b523ab",
   "metadata": {},
   "outputs": [
    {
     "name": "stdout",
     "output_type": "stream",
     "text": [
      "True\n",
      "False\n"
     ]
    }
   ],
   "source": [
    "# 5-    'Ali' listenin bir elemanı mıdır?\n",
    "\n",
    "result1 = 'Ali' in names\n",
    "print (result1)\n",
    "\n",
    "result2 = 'Ali' in years\n",
    "print ( result2)"
   ]
  },
  {
   "cell_type": "code",
   "execution_count": 18,
   "id": "64ec5d8f-56a0-4283-a3c5-a63a3a883ac0",
   "metadata": {},
   "outputs": [
    {
     "name": "stdout",
     "output_type": "stream",
     "text": [
      "['Deniz', 'Hakan', 'Yağmur', 'Ali']\n",
      "[1987, 1998, 2000, 1998]\n"
     ]
    }
   ],
   "source": [
    "# 6-    Liste elemanlarını ters çevirin.\n",
    "\n",
    "print (names [::-1])\n",
    "print (years [::-1])"
   ]
  },
  {
   "cell_type": "code",
   "execution_count": 20,
   "id": "d42d0825-4d2b-4c0d-ba53-c509b3533f55",
   "metadata": {},
   "outputs": [
    {
     "name": "stdout",
     "output_type": "stream",
     "text": [
      "['Ali', 'Deniz', 'Hakan', 'Yağmur']\n"
     ]
    }
   ],
   "source": [
    "# 7-    Liste elemanlarını alfabetik olarak sıralayın.\n",
    "\n",
    "names.sort ()\n",
    "print (names)"
   ]
  },
  {
   "cell_type": "code",
   "execution_count": 22,
   "id": "b3043710-41ea-4cc5-9e6e-90b36e1efe7f",
   "metadata": {},
   "outputs": [
    {
     "name": "stdout",
     "output_type": "stream",
     "text": [
      "[1987, 1998, 1998, 2000]\n",
      "[2000, 1998, 1998, 1987]\n"
     ]
    }
   ],
   "source": [
    "# 8-    years listesindeki rakamsal olarak sıralayın.\n",
    "\n",
    "years.sort()\n",
    "print (years)\n",
    "\n",
    "years.reverse ()\n",
    "print (years)"
   ]
  },
  {
   "cell_type": "code",
   "execution_count": 24,
   "id": "3f635886-d2a9-4ac1-b111-53e678346909",
   "metadata": {},
   "outputs": [
    {
     "name": "stdout",
     "output_type": "stream",
     "text": [
      "['Chevrolet', 'Dacia']\n",
      "<class 'list'>\n"
     ]
    }
   ],
   "source": [
    "# 9-    str = \"Chevrolet,Dacia\" karakter dizisini liste tipine çevirin.\n",
    "\n",
    "str  = ['Chevrolet', 'Dacia']\n",
    "print (str)\n",
    "print (type (str))"
   ]
  },
  {
   "cell_type": "code",
   "execution_count": 26,
   "id": "64ec72e0-78ce-4015-86bb-69aa9176f5a6",
   "metadata": {},
   "outputs": [
    {
     "name": "stdout",
     "output_type": "stream",
     "text": [
      "1987\n",
      "2000\n"
     ]
    }
   ],
   "source": [
    "# 10-   years dizisinin en büyük ve en küçük elemanı nedir?\n",
    "\n",
    "print (min(years))\n",
    "print (max(years))"
   ]
  },
  {
   "cell_type": "code",
   "execution_count": 28,
   "id": "44e9b01f-7e01-4f39-88f9-f784d8afa16c",
   "metadata": {},
   "outputs": [
    {
     "name": "stdout",
     "output_type": "stream",
     "text": [
      "2\n"
     ]
    }
   ],
   "source": [
    "# 11-   years dizisinde kaç tane 1998 değeri vardır?\n",
    "\n",
    "print (years.count (1998))"
   ]
  },
  {
   "cell_type": "code",
   "execution_count": 30,
   "id": "b4dcc526-1c4c-403f-82d7-3c703437ec83",
   "metadata": {},
   "outputs": [
    {
     "name": "stdout",
     "output_type": "stream",
     "text": [
      "None\n"
     ]
    }
   ],
   "source": [
    "# 12-   years disindeki tüm elemanları siliniz.\n",
    "\n",
    "print (years.clear())"
   ]
  },
  {
   "cell_type": "code",
   "execution_count": null,
   "id": "bab65e98-7d90-49af-960b-2b6faa508e2f",
   "metadata": {},
   "outputs": [
    {
     "name": "stdin",
     "output_type": "stream",
     "text": [
      "Marka Bilgisini Giriniz:  rt\n",
      "Marka Bilgisini Giriniz:  rt\n",
      "Marka Bilgisini Giriniz:  rt\n"
     ]
    },
    {
     "name": "stdout",
     "output_type": "stream",
     "text": [
      "['r', 't', 'r', 't', 'r', 't']\n"
     ]
    }
   ],
   "source": [
    "# 13-   Kullanıcıdan alacağınız 3 tane marka bilgisini bir listede saklayınız.\n",
    "\n",
    "user1 = list(input('Marka Bilgisini Giriniz: '))\n",
    "user2 = list(input('Marka Bilgisini Giriniz: '))\n",
    "user3 = list(input('Marka Bilgisini Giriniz: '))\n",
    "\n",
    "markalar = user1 + user2 + user3\n",
    "\n",
    "print (markalar)\n",
    "\n",
    "#veya \n",
    "\n",
    "markalar = []\n",
    "\n",
    "marka = input (\"marka: \")\n",
    "markalar.append (marka)\n",
    "\n",
    "marka = input (\"marka: \")\n",
    "markalar.append (marka)\n",
    "\n",
    "marka = input (\"marka: \")\n",
    "markalar.append (marka)\n",
    "\n",
    "print (markalar)"
   ]
  },
  {
   "cell_type": "code",
   "execution_count": null,
   "id": "ff3ac782-214b-4a61-b5ef-4cae1ad03567",
   "metadata": {},
   "outputs": [],
   "source": []
  }
 ],
 "metadata": {
  "kernelspec": {
   "display_name": "Python 3 (ipykernel)",
   "language": "python",
   "name": "python3"
  },
  "language_info": {
   "codemirror_mode": {
    "name": "ipython",
    "version": 3
   },
   "file_extension": ".py",
   "mimetype": "text/x-python",
   "name": "python",
   "nbconvert_exporter": "python",
   "pygments_lexer": "ipython3",
   "version": "3.10.14"
  }
 },
 "nbformat": 4,
 "nbformat_minor": 5
}
