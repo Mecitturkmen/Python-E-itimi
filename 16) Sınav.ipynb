{
 "cells": [
  {
   "cell_type": "markdown",
   "id": "f3d36d92-de2c-4b25-8dbb-fdff27f25d3d",
   "metadata": {},
   "source": [
    "'''\n",
    "    ogrenciler = {\n",
    "        '120': {\n",
    "            'ad': 'Ali',\n",
    "            'soyad': 'Yılmaz',\n",
    "            'telefon': '532 000 00 01'\n",
    "        },\n",
    "        '125': {\n",
    "            'ad': 'Can',\n",
    "            'soyad': 'Korkmaz',\n",
    "            'telefon': '532 000 00 02'\n",
    "        },\n",
    "        '128': {\n",
    "            'ad': 'Volkan',\n",
    "            'soyad': 'Yükselen',\n",
    "            'telefon': '532 000 00 03'\n",
    "        },\n",
    "    }\n",
    "\n",
    "    1- Bilgileri verilen öğrencileri kullanıcıdan aldığınız bilgilerle\n",
    "       dictionary içinde saklayınız.\n",
    "\n",
    "    2- Öğrenci numarasını kullanıcıdan alıp ilgili öğrenci bilgisini gösterin.\n",
    "'''"
   ]
  },
  {
   "cell_type": "code",
   "execution_count": 10,
   "id": "e52b8bfa-9b80-4291-ae4f-cc7f0d9cadc6",
   "metadata": {},
   "outputs": [
    {
     "name": "stdin",
     "output_type": "stream",
     "text": [
      "öğrenci no:  120\n",
      "öğrenci adı:  Ali\n",
      "öğrenci soyad:  Yılmaz\n",
      "öğrenci telefon:  532000\n"
     ]
    },
    {
     "name": "stdout",
     "output_type": "stream",
     "text": [
      "**************************************************\n"
     ]
    }
   ],
   "source": [
    "ogrenciler = {}\n",
    "\n",
    "number = input(\"öğrenci no: \")\n",
    "name = input(\"öğrenci adı: \")\n",
    "surname = input(\"öğrenci soyad: \")\n",
    "phone = input(\"öğrenci telefon: \")\n",
    "\n",
    "ogrenciler.update({\n",
    "    number: {\n",
    "        'ad': name,\n",
    "        'soyad': surname,\n",
    "        'telefon':phone \n",
    "    }\n",
    "})\n",
    "print('*'*50)    "
   ]
  },
  {
   "cell_type": "code",
   "execution_count": 12,
   "id": "0e219aca-1084-47d3-914b-2db8a8721ab5",
   "metadata": {},
   "outputs": [
    {
     "name": "stdin",
     "output_type": "stream",
     "text": [
      "öğrenci no:  120\n"
     ]
    },
    {
     "name": "stdout",
     "output_type": "stream",
     "text": [
      "{'ad': 'Ali', 'soyad': 'Yılmaz', 'telefon': '532000'}\n",
      "Aradığınız 120 nolu öğrencinin adı: Ali soyadı: Yılmaz ve telefonu ise 532000\n"
     ]
    }
   ],
   "source": [
    "ogrNo = input('öğrenci no: ')\n",
    "ogrenci = ogrenciler[ogrNo]\n",
    "print(ogrenci)\n",
    "\n",
    "print(f\"Aradığınız {ogrNo} nolu öğrencinin adı: {ogrenci['ad']} soyadı: {ogrenci['soyad']} ve telefonu ise {ogrenci['telefon']}\")"
   ]
  },
  {
   "cell_type": "code",
   "execution_count": null,
   "id": "72e88c8a-431b-4965-8ad4-cc658419799e",
   "metadata": {},
   "outputs": [],
   "source": []
  }
 ],
 "metadata": {
  "kernelspec": {
   "display_name": "Python 3 (ipykernel)",
   "language": "python",
   "name": "python3"
  },
  "language_info": {
   "codemirror_mode": {
    "name": "ipython",
    "version": 3
   },
   "file_extension": ".py",
   "mimetype": "text/x-python",
   "name": "python",
   "nbconvert_exporter": "python",
   "pygments_lexer": "ipython3",
   "version": "3.10.14"
  }
 },
 "nbformat": 4,
 "nbformat_minor": 5
}
